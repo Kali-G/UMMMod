{
 "cells": [
  {
   "cell_type": "code",
   "execution_count": null,
   "metadata": {},
   "outputs": [],
   "source": [
    "import tensorflow as tf\n",
    "import tensorflow_hub as hub\n",
    "import tensorflow_text as text\n",
    "import pandas as pd\n",
    "import numpy as np\n",
    "import pickle\n",
    "from PIL import Image\n",
    "from tensorflow.keras.applications.resnet50 import preprocess_input, decode_predictions\n",
    "\n",
    "from tensorflow.keras.layers import Dense, GlobalAveragePooling2D, concatenate\n",
    "from tensorflow.keras.models import Model\n",
    "from tensorflow.keras.applications import ResNet50\n",
    "from sklearn.metrics import f1_score"
   ]
  },
  {
   "cell_type": "code",
   "execution_count": null,
   "metadata": {},
   "outputs": [],
   "source": [
    "def macro_f1_score(y_true, y_pred):\n",
    "    macro_f1 = f1_score(y_true, y_pred, average='macro')\n",
    "    return macro_f1"
   ]
  },
  {
   "cell_type": "code",
   "execution_count": null,
   "metadata": {},
   "outputs": [],
   "source": [
    "labelsPath = '../data/labels_pd_pickle'\n",
    "file = open(labelsPath,'rb')\n",
    "data = pickle.load(file)\n",
    "\n",
    "data.drop(columns=['text_ocr'])\n",
    "\n",
    "\n",
    "taskA = data.take([0,2,7],axis=1)\n",
    "\n",
    "one_hot_encoded = pd.get_dummies(taskA['overall_sentiment'],dtype=int)\n",
    "taskA['ohe'] = one_hot_encoded.values.tolist()\n",
    "labels = one_hot_encoded.columns.tolist()\n",
    "taskA['text_corrected'] = taskA['text_corrected'].astype('string')\n",
    "codes, uniques = pd.factorize(taskA['overall_sentiment'])\n",
    "taskA['class'] = codes\n",
    "\n",
    "\n",
    "print(taskA['class'].value_counts())\n",
    "taskAbalanced = pd.concat([\n",
    "    taskA[taskA['class'] == c].sample(n=151, replace=True) for c in taskA['class'].unique()\n",
    "])\n",
    "print(taskAbalanced['class'].value_counts())\n",
    "\n",
    "taskAbalanced = taskAbalanced.sample(frac=1).reset_index(drop=True)\n",
    "\n",
    "taskAbalanced.head()\n"
   ]
  },
  {
   "cell_type": "code",
   "execution_count": null,
   "metadata": {},
   "outputs": [],
   "source": [
    "taskAbalanced['overall_sentiment'].unique()"
   ]
  },
  {
   "cell_type": "code",
   "execution_count": null,
   "metadata": {},
   "outputs": [],
   "source": [
    "images_folder = '../data/images/'\n",
    "images = []\n",
    "df = taskAbalanced\n",
    "for filename in df['image_name'].values:  # Zmień 'nazwa_pliku' na nazwę kolumny z nazwami plików w DataFrame\n",
    "    img = Image.open(images_folder + filename)  # Tworzenie ścieżki do pliku obrazu\n",
    "    img = img.resize((224, 224))  # Dopasowanie rozmiaru obrazu, jeśli to konieczne\n",
    "    img = img.convert('RGB')  # Konwertuj do formatu RGB\n",
    "    img_array = np.array(img)  # Konwersja obrazu PIL na tablicę numpy\n",
    "    img_array = preprocess_input(img_array)\n",
    "    images.append(img_array)  # Dodanie obrazu do listy\n",
    "images = np.stack(images)"
   ]
  },
  {
   "cell_type": "code",
   "execution_count": null,
   "metadata": {},
   "outputs": [],
   "source": [
    "images[:].shape"
   ]
  },
  {
   "cell_type": "code",
   "execution_count": null,
   "metadata": {},
   "outputs": [],
   "source": [
    "import matplotlib.pyplot as plt\n",
    "plt.imshow(images[1])\n",
    "plt.show()\n",
    "df.iloc[1]"
   ]
  },
  {
   "cell_type": "code",
   "execution_count": null,
   "metadata": {},
   "outputs": [],
   "source": [
    "# from sklearn.model_selection import train_test_split\n",
    "\n",
    "# Xtrain, Xtest, ytrain, ytest = train_test_split(df['text_corrected'],df['class'],shuffle=False)\n",
    "# Xtrain = np.asarray(Xtrain).astype(np.str)\n",
    "# ytrain = np.asarray(ytrain).astype(np.int)\n",
    "# Xtest = np.asarray(Xtest).astype(np.str)\n",
    "# ytest = np.asarray(ytest).astype(np.int)\n",
    "\n",
    "from sklearn.model_selection import KFold\n",
    "\n",
    "kf = KFold(n_splits=5,shuffle=True, random_state=777)\n",
    "\n",
    "trainFolds={}\n",
    "testFolds={}\n",
    "\n",
    "for i, (train_index, test_index) in enumerate(kf.split(df['text_corrected'])):\n",
    "    trainFolds[i] = (df['text_corrected'][train_index].reset_index(drop=True),images[train_index], df['class'][train_index].reset_index(drop=True))\n",
    "    testFolds[i]  = (df['text_corrected'][test_index].reset_index(drop=True),images[test_index] ,  df['class'][test_index].reset_index(drop=True))\n",
    "    "
   ]
  },
  {
   "cell_type": "code",
   "execution_count": null,
   "metadata": {},
   "outputs": [],
   "source": [
    "def foldProccess(i,Xtrain, Xtest, ytrain, ytest, imagesTrain, imagesTest):    \n",
    "    bert_preprocess = hub.KerasLayer(\"https://tfhub.dev/tensorflow/bert_en_uncased_preprocess/3\")\n",
    "    bert_encoder = hub.KerasLayer(\"https://tfhub.dev/tensorflow/bert_en_uncased_L-12_H-768_A-12/4\")\n",
    "    text_input = tf.keras.layers.Input(shape=(), dtype=tf.string, name='text')\n",
    "    preprocessed_text = bert_preprocess(text_input)\n",
    "    bertOutputs = bert_encoder(preprocessed_text)\n",
    "    l = tf.keras.layers.Dropout(0.1, name=\"dropout\")(bertOutputs['pooled_output'])\n",
    "#     base_model = ResNet50(weights='imagenet', include_top=False)\n",
    "#     for layer in base_model.layers:\n",
    "#         layer.trainable = False\n",
    "#     #ResNet50\n",
    "#     x = base_model.output\n",
    "#     x = GlobalAveragePooling2D()(x)\n",
    "#     x = Dense(1024, activation='relu')(x)\n",
    "#     #HEAD\n",
    "#     concatenated = concatenate([x, l])\n",
    "    \n",
    "    \n",
    "    connect = Dense(512, activation='relu')(l)\n",
    "    l = tf.keras.layers.Dense(5, activation='softmax', name=\"output\")(connect)\n",
    "    # Use inputs and outputs to construct a final model\n",
    "    model = tf.keras.Model(inputs=[text_input], outputs = [l])\n",
    "    METRICS = [\n",
    "        tf.keras.metrics.SparseCategoricalAccuracy(),\n",
    "        tf.keras.metrics.SparseCategoricalCrossentropy()\n",
    "    ]\n",
    "    model.compile(optimizer=tf.keras.optimizers.Adam(),\n",
    "                  loss=tf.keras.losses.SparseCategoricalCrossentropy(),\n",
    "                  metrics=METRICS)\n",
    "    \n",
    "    \n",
    "    \n",
    "    history = model.fit(Xtrain, ytrain, epochs=15,validation_split=0.1)#, callbacks=[early_stopping])\n",
    "    model.save(f'models/cross4/{i}_multimod_bert_res50_e15_val0_1')\n",
    "    model.evaluate(Xtest, ytest)\n",
    "    ypred = model.predict(Xtest)\n",
    "    z = np.argmax(ypred, axis=1)\n",
    "    macro_f1 = macro_f1_score(ytest, z)\n",
    "    print(\"Macro F1 Score:\", macro_f1)"
   ]
  },
  {
   "cell_type": "code",
   "execution_count": null,
   "metadata": {},
   "outputs": [],
   "source": [
    "for i in range(0,5)[:]:\n",
    "    Xtrain, imagesTrain, ytrain = trainFolds[i][0], trainFolds[i][1], trainFolds[i][2] \n",
    "    Xtest, imagesTest, ytest = testFolds[i][0], testFolds[i][1], testFolds[i][2]\n",
    "    foldProccess(i,Xtrain,  Xtest, ytrain, ytest, imagesTrain, imagesTest)"
   ]
  },
  {
   "cell_type": "code",
   "execution_count": null,
   "metadata": {},
   "outputs": [],
   "source": [
    "model.save('models/multimod_bert_uni_e15_val0_1')"
   ]
  },
  {
   "cell_type": "code",
   "execution_count": null,
   "metadata": {},
   "outputs": [],
   "source": [
    "model.evaluate([Xtest, images[566:]], ytest)"
   ]
  },
  {
   "cell_type": "code",
   "execution_count": null,
   "metadata": {},
   "outputs": [],
   "source": [
    "ypred = model.predict([Xtest, images[566:]])\n",
    "z = np.argmax(ypred, axis=1)"
   ]
  },
  {
   "cell_type": "code",
   "execution_count": null,
   "metadata": {},
   "outputs": [],
   "source": [
    "macro_f1 = macro_f1_score(ytest, z)\n",
    "print(\"Macro F1 Score:\", macro_f1)"
   ]
  },
  {
   "cell_type": "code",
   "execution_count": null,
   "metadata": {},
   "outputs": [],
   "source": [
    "history.history"
   ]
  },
  {
   "cell_type": "code",
   "execution_count": null,
   "metadata": {},
   "outputs": [],
   "source": [
    "import matplotlib.pyplot as plt\n",
    "\n",
    "def plot_history(history):\n",
    "    # Wyświetlenie wartości straty dla zbioru treningowego i walidacyjnego\n",
    "    plt.plot(history.history['loss'], label='loss')\n",
    "    plt.plot(history.history['sparse_categorical_accuracy'], label='sparse_categorical_accuracy')\n",
    "    plt.plot(history.history['sparse_categorical_crossentropy'], label='sparse_categorical_crossentropy')\n",
    "    plt.xlabel('Epoch')\n",
    "    plt.ylabel('Loss')\n",
    "    plt.title('Loss vs. Epoch')\n",
    "    plt.legend()\n",
    "    plt.show()\n",
    "    \n",
    "    # Wyświetlenie wartości dokładności dla zbioru treningowego i walidacyjnego\n",
    "    #plt.plot(history.history['loss'], label='loss')\n",
    "    plt.plot(history.history['val_loss'], label='val_loss')\n",
    "    plt.plot(history.history['val_sparse_categorical_crossentropy'], label='val_sparse_categorical_crossentropy')\n",
    "    plt.xlabel('Epoch')\n",
    "    plt.xlabel('Epoch')\n",
    "    plt.ylabel('Accuracy')\n",
    "    plt.title('Accuracy vs. Epoch')\n",
    "    plt.legend()\n",
    "    plt.show()\n",
    "plot_history(history)"
   ]
  }
 ],
 "metadata": {
  "kernelspec": {
   "display_name": "Python 3",
   "language": "python",
   "name": "python3"
  },
  "language_info": {
   "codemirror_mode": {
    "name": "ipython",
    "version": 3
   },
   "file_extension": ".py",
   "mimetype": "text/x-python",
   "name": "python",
   "nbconvert_exporter": "python",
   "pygments_lexer": "ipython3",
   "version": "3.6.9"
  }
 },
 "nbformat": 4,
 "nbformat_minor": 2
}
