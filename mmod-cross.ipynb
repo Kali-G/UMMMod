{
 "cells": [
  {
   "cell_type": "code",
   "execution_count": 1,
   "metadata": {},
   "outputs": [],
   "source": [
    "import tensorflow as tf\n",
    "import tensorflow_hub as hub\n",
    "import tensorflow_text as text\n",
    "import pandas as pd\n",
    "import numpy as np\n",
    "import pickle\n",
    "from PIL import Image\n",
    "from tensorflow.keras.applications.resnet50 import preprocess_input, decode_predictions\n",
    "\n",
    "from tensorflow.keras.layers import Dense, GlobalAveragePooling2D, concatenate\n",
    "from tensorflow.keras.models import Model\n",
    "from tensorflow.keras.applications import ResNet50\n",
    "from sklearn.metrics import f1_score"
   ]
  },
  {
   "cell_type": "code",
   "execution_count": 2,
   "metadata": {},
   "outputs": [],
   "source": [
    "def macro_f1_score(y_true, y_pred):\n",
    "    macro_f1 = f1_score(y_true, y_pred, average='macro')\n",
    "    return macro_f1"
   ]
  },
  {
   "cell_type": "code",
   "execution_count": 3,
   "metadata": {},
   "outputs": [
    {
     "name": "stdout",
     "output_type": "stream",
     "text": [
      "1    3127\n",
      "2    2201\n",
      "0    1033\n",
      "3     480\n",
      "4     151\n",
      "Name: class, dtype: int64\n",
      "4    151\n",
      "3    151\n",
      "2    151\n",
      "1    151\n",
      "0    151\n",
      "Name: class, dtype: int64\n"
     ]
    },
    {
     "data": {
      "text/html": [
       "<div>\n",
       "<style scoped>\n",
       "    .dataframe tbody tr th:only-of-type {\n",
       "        vertical-align: middle;\n",
       "    }\n",
       "\n",
       "    .dataframe tbody tr th {\n",
       "        vertical-align: top;\n",
       "    }\n",
       "\n",
       "    .dataframe thead th {\n",
       "        text-align: right;\n",
       "    }\n",
       "</style>\n",
       "<table border=\"1\" class=\"dataframe\">\n",
       "  <thead>\n",
       "    <tr style=\"text-align: right;\">\n",
       "      <th></th>\n",
       "      <th>image_name</th>\n",
       "      <th>text_corrected</th>\n",
       "      <th>overall_sentiment</th>\n",
       "      <th>ohe</th>\n",
       "      <th>class</th>\n",
       "    </tr>\n",
       "  </thead>\n",
       "  <tbody>\n",
       "    <tr>\n",
       "      <th>0</th>\n",
       "      <td>image_1168.jpeg</td>\n",
       "      <td>We Can Do It! RADICAL FEMINISM It's no longer ...</td>\n",
       "      <td>neutral</td>\n",
       "      <td>[0, 1, 0, 0, 0]</td>\n",
       "      <td>2</td>\n",
       "    </tr>\n",
       "    <tr>\n",
       "      <th>1</th>\n",
       "      <td>image_6861.jpg</td>\n",
       "      <td>FROGMAN? NICE NICKNAME Quickmeme.com</td>\n",
       "      <td>very_positive</td>\n",
       "      <td>[0, 0, 0, 0, 1]</td>\n",
       "      <td>0</td>\n",
       "    </tr>\n",
       "    <tr>\n",
       "      <th>2</th>\n",
       "      <td>image_6428.png</td>\n",
       "      <td>I'VE WATCHED THE WALKING DEAD ENOUGH TO KNOW H...</td>\n",
       "      <td>negative</td>\n",
       "      <td>[1, 0, 0, 0, 0]</td>\n",
       "      <td>3</td>\n",
       "    </tr>\n",
       "    <tr>\n",
       "      <th>3</th>\n",
       "      <td>image_6632.jpg</td>\n",
       "      <td>Iceland President “The government bailed out t...</td>\n",
       "      <td>very_negative</td>\n",
       "      <td>[0, 0, 0, 1, 0]</td>\n",
       "      <td>4</td>\n",
       "    </tr>\n",
       "    <tr>\n",
       "      <th>4</th>\n",
       "      <td>image_3608.jpg</td>\n",
       "      <td>VOTE FOR MY WIFE TRUMP IS SEXIST</td>\n",
       "      <td>very_negative</td>\n",
       "      <td>[0, 0, 0, 1, 0]</td>\n",
       "      <td>4</td>\n",
       "    </tr>\n",
       "  </tbody>\n",
       "</table>\n",
       "</div>"
      ],
      "text/plain": [
       "        image_name                                     text_corrected  \\\n",
       "0  image_1168.jpeg  We Can Do It! RADICAL FEMINISM It's no longer ...   \n",
       "1   image_6861.jpg               FROGMAN? NICE NICKNAME Quickmeme.com   \n",
       "2   image_6428.png  I'VE WATCHED THE WALKING DEAD ENOUGH TO KNOW H...   \n",
       "3   image_6632.jpg  Iceland President “The government bailed out t...   \n",
       "4   image_3608.jpg                   VOTE FOR MY WIFE TRUMP IS SEXIST   \n",
       "\n",
       "  overall_sentiment              ohe  class  \n",
       "0           neutral  [0, 1, 0, 0, 0]      2  \n",
       "1     very_positive  [0, 0, 0, 0, 1]      0  \n",
       "2          negative  [1, 0, 0, 0, 0]      3  \n",
       "3     very_negative  [0, 0, 0, 1, 0]      4  \n",
       "4     very_negative  [0, 0, 0, 1, 0]      4  "
      ]
     },
     "execution_count": 3,
     "metadata": {},
     "output_type": "execute_result"
    }
   ],
   "source": [
    "labelsPath = '../data/labels_pd_pickle'\n",
    "file = open(labelsPath,'rb')\n",
    "data = pickle.load(file)\n",
    "\n",
    "data.drop(columns=['text_ocr'])\n",
    "\n",
    "\n",
    "taskA = data.take([0,2,7],axis=1)\n",
    "\n",
    "one_hot_encoded = pd.get_dummies(taskA['overall_sentiment'],dtype=int)\n",
    "taskA['ohe'] = one_hot_encoded.values.tolist()\n",
    "labels = one_hot_encoded.columns.tolist()\n",
    "taskA['text_corrected'] = taskA['text_corrected'].astype('string')\n",
    "codes, uniques = pd.factorize(taskA['overall_sentiment'])\n",
    "taskA['class'] = codes\n",
    "\n",
    "\n",
    "print(taskA['class'].value_counts())\n",
    "taskAbalanced = pd.concat([\n",
    "    taskA[taskA['class'] == c].sample(n=151, replace=True) for c in taskA['class'].unique()\n",
    "])\n",
    "print(taskAbalanced['class'].value_counts())\n",
    "\n",
    "taskAbalanced = taskAbalanced.sample(frac=1).reset_index(drop=True)\n",
    "\n",
    "taskAbalanced.head()\n"
   ]
  },
  {
   "cell_type": "code",
   "execution_count": 4,
   "metadata": {},
   "outputs": [
    {
     "data": {
      "text/plain": [
       "array(['neutral', 'very_positive', 'negative', 'very_negative',\n",
       "       'positive'], dtype=object)"
      ]
     },
     "execution_count": 4,
     "metadata": {},
     "output_type": "execute_result"
    }
   ],
   "source": [
    "taskAbalanced['overall_sentiment'].unique()"
   ]
  },
  {
   "cell_type": "code",
   "execution_count": 5,
   "metadata": {},
   "outputs": [
    {
     "name": "stderr",
     "output_type": "stream",
     "text": [
      "/usr/local/lib/python3.6/dist-packages/PIL/TiffImagePlugin.py:792: UserWarning: Corrupt EXIF data.  Expecting to read 2 bytes but only got 0. \n",
      "  warnings.warn(str(msg))\n"
     ]
    }
   ],
   "source": [
    "images_folder = '../data/images/'\n",
    "images = []\n",
    "df = taskAbalanced\n",
    "for filename in df['image_name'].values:  # Zmień 'nazwa_pliku' na nazwę kolumny z nazwami plików w DataFrame\n",
    "    img = Image.open(images_folder + filename)  # Tworzenie ścieżki do pliku obrazu\n",
    "    img = img.resize((224, 224))  # Dopasowanie rozmiaru obrazu, jeśli to konieczne\n",
    "    img = img.convert('RGB')  # Konwertuj do formatu RGB\n",
    "    img_array = np.array(img)  # Konwersja obrazu PIL na tablicę numpy\n",
    "    img_array = preprocess_input(img_array)\n",
    "    images.append(img_array)  # Dodanie obrazu do listy\n",
    "images = np.stack(images)"
   ]
  },
  {
   "cell_type": "code",
   "execution_count": 6,
   "metadata": {},
   "outputs": [
    {
     "data": {
      "text/plain": [
       "(755, 224, 224, 3)"
      ]
     },
     "execution_count": 6,
     "metadata": {},
     "output_type": "execute_result"
    }
   ],
   "source": [
    "images[:].shape"
   ]
  },
  {
   "cell_type": "code",
   "execution_count": 7,
   "metadata": {},
   "outputs": [
    {
     "name": "stderr",
     "output_type": "stream",
     "text": [
      "Clipping input data to the valid range for imshow with RGB data ([0..1] for floats or [0..255] for integers).\n"
     ]
    },
    {
     "data": {
      "image/png": "[encoded data removed]",
      "text/plain": [
       "<Figure size 432x288 with 1 Axes>"
      ]
     },
     "metadata": {
      "needs_background": "light"
     },
     "output_type": "display_data"
    },
    {
     "data": {
      "text/plain": [
       "image_name                                 image_6861.jpg\n",
       "text_corrected       FROGMAN? NICE NICKNAME Quickmeme.com\n",
       "overall_sentiment                           very_positive\n",
       "ohe                                       [0, 0, 0, 0, 1]\n",
       "class                                                   0\n",
       "Name: 1, dtype: object"
      ]
     },
     "execution_count": 7,
     "metadata": {},
     "output_type": "execute_result"
    }
   ],
   "source": [
    "import matplotlib.pyplot as plt\n",
    "plt.imshow(images[1])\n",
    "plt.show()\n",
    "df.iloc[1]"
   ]
  },
  {
   "cell_type": "code",
   "execution_count": 8,
   "metadata": {},
   "outputs": [],
   "source": [
    "# from sklearn.model_selection import train_test_split\n",
    "\n",
    "# Xtrain, Xtest, ytrain, ytest = train_test_split(df['text_corrected'],df['class'],shuffle=False)\n",
    "# Xtrain = np.asarray(Xtrain).astype(np.str)\n",
    "# ytrain = np.asarray(ytrain).astype(np.int)\n",
    "# Xtest = np.asarray(Xtest).astype(np.str)\n",
    "# ytest = np.asarray(ytest).astype(np.int)\n",
    "\n",
    "from sklearn.model_selection import KFold\n",
    "\n",
    "kf = KFold(n_splits=5,shuffle=True, random_state=777)\n",
    "\n",
    "trainFolds={}\n",
    "testFolds={}\n",
    "\n",
    "for i, (train_index, test_index) in enumerate(kf.split(df['text_corrected'])):\n",
    "    trainFolds[i] = (df['text_corrected'][train_index].reset_index(drop=True),images[train_index], df['class'][train_index].reset_index(drop=True))\n",
    "    testFolds[i]  = (df['text_corrected'][test_index].reset_index(drop=True),images[test_index] ,  df['class'][test_index].reset_index(drop=True))\n",
    "    "
   ]
  },
  {
   "cell_type": "code",
   "execution_count": 9,
   "metadata": {},
   "outputs": [],
   "source": [
    "def foldProccess(i,Xtrain, Xtest, ytrain, ytest, imagesTrain, imagesTest):    \n",
    "    bert_preprocess = hub.KerasLayer(\"https://tfhub.dev/tensorflow/bert_en_uncased_preprocess/3\")\n",
    "    bert_encoder = hub.KerasLayer(\"https://tfhub.dev/tensorflow/bert_en_uncased_L-12_H-768_A-12/4\")\n",
    "    base_model = ResNet50(weights='imagenet', include_top=False)\n",
    "    for layer in base_model.layers:\n",
    "        layer.trainable = False\n",
    "    text_input = tf.keras.layers.Input(shape=(), dtype=tf.string, name='text')\n",
    "    preprocessed_text = bert_preprocess(text_input)\n",
    "    bertOutputs = bert_encoder(preprocessed_text)\n",
    "    l = tf.keras.layers.Dropout(0.1, name=\"dropout\")(bertOutputs['pooled_output'])\n",
    "    #ResNet50\n",
    "    x = base_model.output\n",
    "    x = GlobalAveragePooling2D()(x)\n",
    "    x = Dense(1024, activation='relu')(x)\n",
    "    #HEAD\n",
    "    concatenated = concatenate([x, l])\n",
    "    connect = Dense(512, activation='relu')(concatenated)\n",
    "    l = tf.keras.layers.Dense(5, activation='softmax', name=\"output\")(connect)\n",
    "    # Use inputs and outputs to construct a final model\n",
    "    model = tf.keras.Model(inputs=[text_input,base_model.input], outputs = [l])\n",
    "    METRICS = [\n",
    "        tf.keras.metrics.SparseCategoricalAccuracy(),\n",
    "        tf.keras.metrics.SparseCategoricalCrossentropy()\n",
    "    ]\n",
    "    model.compile(optimizer=tf.keras.optimizers.Adam(),\n",
    "                  loss=tf.keras.losses.SparseCategoricalCrossentropy(),\n",
    "                  metrics=METRICS)\n",
    "    \n",
    "    \n",
    "    \n",
    "    history = model.fit([Xtrain,imagesTrain], ytrain, epochs=15,validation_split=0.1)#, callbacks=[early_stopping])\n",
    "    model.save(f'models/cross4/{i}_multimod_bert_res50_e15_val0_1')\n",
    "    model.evaluate([Xtest, imagesTest], ytest)\n",
    "    ypred = model.predict([Xtest, imagesTest])\n",
    "    z = np.argmax(ypred, axis=1)\n",
    "    macro_f1 = macro_f1_score(ytest, z)\n",
    "    print(\"Macro F1 Score:\", macro_f1)"
   ]
  },
  {
   "cell_type": "code",
   "execution_count": 10,
   "metadata": {},
   "outputs": [
    {
     "name": "stdout",
     "output_type": "stream",
     "text": [
      "Epoch 1/15\n",
      "17/17 [==============================] - 119s 7s/step - loss: 2.5392 - sparse_categorical_accuracy: 0.2081 - sparse_categorical_crossentropy: 2.5392 - val_loss: 1.8209 - val_sparse_categorical_accuracy: 0.1803 - val_sparse_categorical_crossentropy: 1.8209\n",
      "Epoch 2/15\n",
      "17/17 [==============================] - 104s 6s/step - loss: 1.5280 - sparse_categorical_accuracy: 0.3241 - sparse_categorical_crossentropy: 1.5280 - val_loss: 1.5900 - val_sparse_categorical_accuracy: 0.3443 - val_sparse_categorical_crossentropy: 1.5900\n",
      "Epoch 3/15\n",
      "17/17 [==============================] - 101s 6s/step - loss: 1.3253 - sparse_categorical_accuracy: 0.4438 - sparse_categorical_crossentropy: 1.3253 - val_loss: 1.7421 - val_sparse_categorical_accuracy: 0.2787 - val_sparse_categorical_crossentropy: 1.7421\n",
      "Epoch 4/15\n",
      "17/17 [==============================] - 99s 6s/step - loss: 1.0789 - sparse_categorical_accuracy: 0.5838 - sparse_categorical_crossentropy: 1.0789 - val_loss: 1.6789 - val_sparse_categorical_accuracy: 0.3115 - val_sparse_categorical_crossentropy: 1.6789\n",
      "Epoch 5/15\n",
      "17/17 [==============================] - 95s 6s/step - loss: 0.8440 - sparse_categorical_accuracy: 0.6961 - sparse_categorical_crossentropy: 0.8440 - val_loss: 1.8083 - val_sparse_categorical_accuracy: 0.3279 - val_sparse_categorical_crossentropy: 1.8083\n",
      "Epoch 6/15\n",
      "17/17 [==============================] - 95s 6s/step - loss: 0.5688 - sparse_categorical_accuracy: 0.8250 - sparse_categorical_crossentropy: 0.5688 - val_loss: 2.0369 - val_sparse_categorical_accuracy: 0.3607 - val_sparse_categorical_crossentropy: 2.0369\n",
      "Epoch 7/15\n",
      "17/17 [==============================] - 95s 6s/step - loss: 0.3397 - sparse_categorical_accuracy: 0.9024 - sparse_categorical_crossentropy: 0.3397 - val_loss: 2.5071 - val_sparse_categorical_accuracy: 0.3279 - val_sparse_categorical_crossentropy: 2.5071\n",
      "Epoch 8/15\n",
      "17/17 [==============================] - 95s 6s/step - loss: 0.2167 - sparse_categorical_accuracy: 0.9558 - sparse_categorical_crossentropy: 0.2167 - val_loss: 2.5228 - val_sparse_categorical_accuracy: 0.3279 - val_sparse_categorical_crossentropy: 2.5228\n",
      "Epoch 9/15\n",
      "17/17 [==============================] - 95s 6s/step - loss: 0.1210 - sparse_categorical_accuracy: 0.9705 - sparse_categorical_crossentropy: 0.1210 - val_loss: 2.5576 - val_sparse_categorical_accuracy: 0.3115 - val_sparse_categorical_crossentropy: 2.5576\n",
      "Epoch 10/15\n",
      "17/17 [==============================] - 105s 6s/step - loss: 0.0767 - sparse_categorical_accuracy: 0.9908 - sparse_categorical_crossentropy: 0.0767 - val_loss: 2.7859 - val_sparse_categorical_accuracy: 0.3607 - val_sparse_categorical_crossentropy: 2.7859\n",
      "Epoch 11/15\n",
      "17/17 [==============================] - 113s 7s/step - loss: 0.0511 - sparse_categorical_accuracy: 0.9963 - sparse_categorical_crossentropy: 0.0511 - val_loss: 2.9721 - val_sparse_categorical_accuracy: 0.3279 - val_sparse_categorical_crossentropy: 2.9721\n",
      "Epoch 12/15\n",
      "17/17 [==============================] - 113s 7s/step - loss: 0.0299 - sparse_categorical_accuracy: 0.9982 - sparse_categorical_crossentropy: 0.0299 - val_loss: 2.9911 - val_sparse_categorical_accuracy: 0.3770 - val_sparse_categorical_crossentropy: 2.9911\n",
      "Epoch 13/15\n",
      "17/17 [==============================] - 109s 6s/step - loss: 0.0270 - sparse_categorical_accuracy: 0.9982 - sparse_categorical_crossentropy: 0.0270 - val_loss: 3.0496 - val_sparse_categorical_accuracy: 0.3607 - val_sparse_categorical_crossentropy: 3.0496\n",
      "Epoch 14/15\n",
      "17/17 [==============================] - 103s 6s/step - loss: 0.0372 - sparse_categorical_accuracy: 0.9945 - sparse_categorical_crossentropy: 0.0372 - val_loss: 3.0767 - val_sparse_categorical_accuracy: 0.3279 - val_sparse_categorical_crossentropy: 3.0767\n",
      "Epoch 15/15\n",
      "17/17 [==============================] - 100s 6s/step - loss: 0.0304 - sparse_categorical_accuracy: 0.9982 - sparse_categorical_crossentropy: 0.0304 - val_loss: 3.3980 - val_sparse_categorical_accuracy: 0.3443 - val_sparse_categorical_crossentropy: 3.3980\n"
     ]
    },
    {
     "name": "stderr",
     "output_type": "stream",
     "text": [
      "WARNING:absl:Found untraced functions such as restored_function_body, restored_function_body, restored_function_body, restored_function_body, restored_function_body while saving (showing 5 of 915). These functions will not be directly callable after loading.\n"
     ]
    },
    {
     "name": "stdout",
     "output_type": "stream",
     "text": [
      "INFO:tensorflow:Assets written to: models/cross4/0_multimod_bert_res50_e15_val0_1/assets\n"
     ]
    },
    {
     "name": "stderr",
     "output_type": "stream",
     "text": [
      "INFO:tensorflow:Assets written to: models/cross4/0_multimod_bert_res50_e15_val0_1/assets\n",
      "/usr/local/lib/python3.6/dist-packages/keras/utils/generic_utils.py:497: CustomMaskWarning: Custom mask layers require a config and must override get_config. When loading, the custom mask layer must be passed to the custom_objects argument.\n",
      "  category=CustomMaskWarning)\n"
     ]
    },
    {
     "name": "stdout",
     "output_type": "stream",
     "text": [
      "5/5 [==============================] - 24s 5s/step - loss: 3.2252 - sparse_categorical_accuracy: 0.2517 - sparse_categorical_crossentropy: 3.2252\n",
      "Macro F1 Score: 0.24639517680799009\n",
      "Epoch 1/15\n",
      "17/17 [==============================] - 116s 7s/step - loss: 2.8971 - sparse_categorical_accuracy: 0.2063 - sparse_categorical_crossentropy: 2.8971 - val_loss: 1.6258 - val_sparse_categorical_accuracy: 0.2459 - val_sparse_categorical_crossentropy: 1.6258\n",
      "Epoch 2/15\n",
      "17/17 [==============================] - 114s 7s/step - loss: 1.6219 - sparse_categorical_accuracy: 0.2615 - sparse_categorical_crossentropy: 1.6219 - val_loss: 1.5833 - val_sparse_categorical_accuracy: 0.2623 - val_sparse_categorical_crossentropy: 1.5833\n",
      "Epoch 3/15\n",
      "17/17 [==============================] - 105s 6s/step - loss: 1.4172 - sparse_categorical_accuracy: 0.3904 - sparse_categorical_crossentropy: 1.4172 - val_loss: 1.5793 - val_sparse_categorical_accuracy: 0.2787 - val_sparse_categorical_crossentropy: 1.5793\n",
      "Epoch 4/15\n",
      "17/17 [==============================] - 110s 7s/step - loss: 1.1772 - sparse_categorical_accuracy: 0.5672 - sparse_categorical_crossentropy: 1.1772 - val_loss: 1.5966 - val_sparse_categorical_accuracy: 0.3115 - val_sparse_categorical_crossentropy: 1.5966\n",
      "Epoch 5/15\n",
      "17/17 [==============================] - 111s 7s/step - loss: 0.9394 - sparse_categorical_accuracy: 0.6796 - sparse_categorical_crossentropy: 0.9394 - val_loss: 1.7234 - val_sparse_categorical_accuracy: 0.2787 - val_sparse_categorical_crossentropy: 1.7234\n",
      "Epoch 6/15\n",
      "17/17 [==============================] - 112s 7s/step - loss: 0.7163 - sparse_categorical_accuracy: 0.7587 - sparse_categorical_crossentropy: 0.7163 - val_loss: 1.8405 - val_sparse_categorical_accuracy: 0.2951 - val_sparse_categorical_crossentropy: 1.8405\n",
      "Epoch 7/15\n",
      "17/17 [==============================] - 112s 7s/step - loss: 0.4786 - sparse_categorical_accuracy: 0.8766 - sparse_categorical_crossentropy: 0.4786 - val_loss: 2.2899 - val_sparse_categorical_accuracy: 0.2623 - val_sparse_categorical_crossentropy: 2.2899\n",
      "Epoch 8/15\n",
      "17/17 [==============================] - 112s 7s/step - loss: 0.3023 - sparse_categorical_accuracy: 0.9300 - sparse_categorical_crossentropy: 0.3023 - val_loss: 2.1607 - val_sparse_categorical_accuracy: 0.3279 - val_sparse_categorical_crossentropy: 2.1607\n",
      "Epoch 9/15\n",
      "17/17 [==============================] - 111s 7s/step - loss: 0.1908 - sparse_categorical_accuracy: 0.9705 - sparse_categorical_crossentropy: 0.1908 - val_loss: 2.5687 - val_sparse_categorical_accuracy: 0.2951 - val_sparse_categorical_crossentropy: 2.5687\n",
      "Epoch 10/15\n",
      "17/17 [==============================] - 111s 7s/step - loss: 0.1156 - sparse_categorical_accuracy: 0.9853 - sparse_categorical_crossentropy: 0.1156 - val_loss: 2.5091 - val_sparse_categorical_accuracy: 0.3115 - val_sparse_categorical_crossentropy: 2.5091\n",
      "Epoch 11/15\n",
      "17/17 [==============================] - 109s 6s/step - loss: 0.0784 - sparse_categorical_accuracy: 0.9908 - sparse_categorical_crossentropy: 0.0784 - val_loss: 2.8106 - val_sparse_categorical_accuracy: 0.2951 - val_sparse_categorical_crossentropy: 2.8106\n",
      "Epoch 12/15\n",
      "17/17 [==============================] - 110s 7s/step - loss: 0.0540 - sparse_categorical_accuracy: 0.9926 - sparse_categorical_crossentropy: 0.0540 - val_loss: 2.8401 - val_sparse_categorical_accuracy: 0.3115 - val_sparse_categorical_crossentropy: 2.8401\n",
      "Epoch 13/15\n",
      "17/17 [==============================] - 105s 6s/step - loss: 0.0434 - sparse_categorical_accuracy: 0.9945 - sparse_categorical_crossentropy: 0.0434 - val_loss: 3.0376 - val_sparse_categorical_accuracy: 0.3443 - val_sparse_categorical_crossentropy: 3.0376\n",
      "Epoch 14/15\n",
      "17/17 [==============================] - 110s 7s/step - loss: 0.0349 - sparse_categorical_accuracy: 0.9982 - sparse_categorical_crossentropy: 0.0349 - val_loss: 3.0235 - val_sparse_categorical_accuracy: 0.3443 - val_sparse_categorical_crossentropy: 3.0235\n",
      "Epoch 15/15\n",
      "17/17 [==============================] - 103s 6s/step - loss: 0.0155 - sparse_categorical_accuracy: 1.0000 - sparse_categorical_crossentropy: 0.0155 - val_loss: 3.1712 - val_sparse_categorical_accuracy: 0.2787 - val_sparse_categorical_crossentropy: 3.1712\n"
     ]
    },
    {
     "name": "stderr",
     "output_type": "stream",
     "text": [
      "WARNING:absl:Found untraced functions such as restored_function_body, restored_function_body, restored_function_body, restored_function_body, restored_function_body while saving (showing 5 of 915). These functions will not be directly callable after loading.\n"
     ]
    },
    {
     "name": "stdout",
     "output_type": "stream",
     "text": [
      "INFO:tensorflow:Assets written to: models/cross4/1_multimod_bert_res50_e15_val0_1/assets\n"
     ]
    },
    {
     "name": "stderr",
     "output_type": "stream",
     "text": [
      "INFO:tensorflow:Assets written to: models/cross4/1_multimod_bert_res50_e15_val0_1/assets\n",
      "/usr/local/lib/python3.6/dist-packages/keras/utils/generic_utils.py:497: CustomMaskWarning: Custom mask layers require a config and must override get_config. When loading, the custom mask layer must be passed to the custom_objects argument.\n",
      "  category=CustomMaskWarning)\n"
     ]
    },
    {
     "name": "stdout",
     "output_type": "stream",
     "text": [
      "5/5 [==============================] - 25s 5s/step - loss: 3.2580 - sparse_categorical_accuracy: 0.3841 - sparse_categorical_crossentropy: 3.2580\n",
      "Macro F1 Score: 0.38286785009274527\n",
      "Epoch 1/15\n",
      "17/17 [==============================] - 106s 6s/step - loss: 3.0340 - sparse_categorical_accuracy: 0.1805 - sparse_categorical_crossentropy: 3.0340 - val_loss: 1.8588 - val_sparse_categorical_accuracy: 0.1967 - val_sparse_categorical_crossentropy: 1.8588\n",
      "Epoch 2/15\n",
      "17/17 [==============================] - 97s 6s/step - loss: 1.6058 - sparse_categorical_accuracy: 0.2873 - sparse_categorical_crossentropy: 1.6058 - val_loss: 1.6752 - val_sparse_categorical_accuracy: 0.1967 - val_sparse_categorical_crossentropy: 1.6752\n",
      "Epoch 3/15\n",
      "17/17 [==============================] - 95s 6s/step - loss: 1.4812 - sparse_categorical_accuracy: 0.3333 - sparse_categorical_crossentropy: 1.4812 - val_loss: 1.7385 - val_sparse_categorical_accuracy: 0.1639 - val_sparse_categorical_crossentropy: 1.7385\n",
      "Epoch 4/15\n",
      "17/17 [==============================] - 101s 6s/step - loss: 1.2878 - sparse_categorical_accuracy: 0.4843 - sparse_categorical_crossentropy: 1.2878 - val_loss: 1.9367 - val_sparse_categorical_accuracy: 0.1803 - val_sparse_categorical_crossentropy: 1.9367\n",
      "Epoch 5/15\n",
      "17/17 [==============================] - 111s 7s/step - loss: 1.1432 - sparse_categorical_accuracy: 0.5691 - sparse_categorical_crossentropy: 1.1432 - val_loss: 1.7578 - val_sparse_categorical_accuracy: 0.3115 - val_sparse_categorical_crossentropy: 1.7578\n",
      "Epoch 6/15\n",
      "17/17 [==============================] - 111s 7s/step - loss: 0.8549 - sparse_categorical_accuracy: 0.7164 - sparse_categorical_crossentropy: 0.8549 - val_loss: 2.2438 - val_sparse_categorical_accuracy: 0.2951 - val_sparse_categorical_crossentropy: 2.2438\n",
      "Epoch 7/15\n",
      "17/17 [==============================] - 111s 7s/step - loss: 0.6500 - sparse_categorical_accuracy: 0.7956 - sparse_categorical_crossentropy: 0.6500 - val_loss: 2.3309 - val_sparse_categorical_accuracy: 0.2295 - val_sparse_categorical_crossentropy: 2.3309\n",
      "Epoch 8/15\n",
      "17/17 [==============================] - 111s 7s/step - loss: 0.4212 - sparse_categorical_accuracy: 0.8877 - sparse_categorical_crossentropy: 0.4212 - val_loss: 2.4455 - val_sparse_categorical_accuracy: 0.2787 - val_sparse_categorical_crossentropy: 2.4455\n",
      "Epoch 9/15\n",
      "17/17 [==============================] - 109s 6s/step - loss: 0.2342 - sparse_categorical_accuracy: 0.9650 - sparse_categorical_crossentropy: 0.2342 - val_loss: 2.8550 - val_sparse_categorical_accuracy: 0.2623 - val_sparse_categorical_crossentropy: 2.8550\n",
      "Epoch 10/15\n",
      "17/17 [==============================] - 111s 7s/step - loss: 0.1245 - sparse_categorical_accuracy: 0.9926 - sparse_categorical_crossentropy: 0.1245 - val_loss: 3.0222 - val_sparse_categorical_accuracy: 0.2295 - val_sparse_categorical_crossentropy: 3.0222\n",
      "Epoch 11/15\n",
      "17/17 [==============================] - 111s 7s/step - loss: 0.0690 - sparse_categorical_accuracy: 0.9945 - sparse_categorical_crossentropy: 0.0690 - val_loss: 3.4669 - val_sparse_categorical_accuracy: 0.2623 - val_sparse_categorical_crossentropy: 3.4669\n",
      "Epoch 12/15\n",
      "17/17 [==============================] - 111s 7s/step - loss: 0.0388 - sparse_categorical_accuracy: 0.9982 - sparse_categorical_crossentropy: 0.0388 - val_loss: 3.6268 - val_sparse_categorical_accuracy: 0.2459 - val_sparse_categorical_crossentropy: 3.6268\n",
      "Epoch 13/15\n",
      "17/17 [==============================] - 111s 7s/step - loss: 0.0339 - sparse_categorical_accuracy: 0.9982 - sparse_categorical_crossentropy: 0.0339 - val_loss: 3.6004 - val_sparse_categorical_accuracy: 0.2623 - val_sparse_categorical_crossentropy: 3.6004\n",
      "Epoch 14/15\n",
      "17/17 [==============================] - 111s 7s/step - loss: 0.0182 - sparse_categorical_accuracy: 0.9982 - sparse_categorical_crossentropy: 0.0182 - val_loss: 3.7717 - val_sparse_categorical_accuracy: 0.2623 - val_sparse_categorical_crossentropy: 3.7717\n",
      "Epoch 15/15\n",
      "17/17 [==============================] - 110s 6s/step - loss: 0.0160 - sparse_categorical_accuracy: 0.9982 - sparse_categorical_crossentropy: 0.0160 - val_loss: 3.9401 - val_sparse_categorical_accuracy: 0.2459 - val_sparse_categorical_crossentropy: 3.9401\n"
     ]
    },
    {
     "name": "stderr",
     "output_type": "stream",
     "text": [
      "WARNING:absl:Found untraced functions such as restored_function_body, restored_function_body, restored_function_body, restored_function_body, restored_function_body while saving (showing 5 of 915). These functions will not be directly callable after loading.\n"
     ]
    },
    {
     "name": "stdout",
     "output_type": "stream",
     "text": [
      "INFO:tensorflow:Assets written to: models/cross4/2_multimod_bert_res50_e15_val0_1/assets\n"
     ]
    },
    {
     "name": "stderr",
     "output_type": "stream",
     "text": [
      "INFO:tensorflow:Assets written to: models/cross4/2_multimod_bert_res50_e15_val0_1/assets\n",
      "/usr/local/lib/python3.6/dist-packages/keras/utils/generic_utils.py:497: CustomMaskWarning: Custom mask layers require a config and must override get_config. When loading, the custom mask layer must be passed to the custom_objects argument.\n",
      "  category=CustomMaskWarning)\n"
     ]
    },
    {
     "name": "stdout",
     "output_type": "stream",
     "text": [
      "5/5 [==============================] - 27s 5s/step - loss: 3.0659 - sparse_categorical_accuracy: 0.3642 - sparse_categorical_crossentropy: 3.0659\n",
      "Macro F1 Score: 0.3496892655367232\n",
      "Epoch 1/15\n",
      "17/17 [==============================] - 115s 6s/step - loss: 2.5363 - sparse_categorical_accuracy: 0.1860 - sparse_categorical_crossentropy: 2.5363 - val_loss: 1.5357 - val_sparse_categorical_accuracy: 0.3115 - val_sparse_categorical_crossentropy: 1.5357\n",
      "Epoch 2/15\n",
      "17/17 [==============================] - 102s 6s/step - loss: 1.5523 - sparse_categorical_accuracy: 0.3002 - sparse_categorical_crossentropy: 1.5523 - val_loss: 1.7782 - val_sparse_categorical_accuracy: 0.1639 - val_sparse_categorical_crossentropy: 1.7782\n",
      "Epoch 3/15\n",
      "17/17 [==============================] - 98s 6s/step - loss: 1.3956 - sparse_categorical_accuracy: 0.4254 - sparse_categorical_crossentropy: 1.3956 - val_loss: 1.6450 - val_sparse_categorical_accuracy: 0.3770 - val_sparse_categorical_crossentropy: 1.6450\n",
      "Epoch 4/15\n",
      "17/17 [==============================] - 96s 6s/step - loss: 1.1955 - sparse_categorical_accuracy: 0.5506 - sparse_categorical_crossentropy: 1.1955 - val_loss: 1.7494 - val_sparse_categorical_accuracy: 0.2459 - val_sparse_categorical_crossentropy: 1.7494\n",
      "Epoch 5/15\n",
      "17/17 [==============================] - 99s 6s/step - loss: 0.9200 - sparse_categorical_accuracy: 0.7053 - sparse_categorical_crossentropy: 0.9200 - val_loss: 1.9235 - val_sparse_categorical_accuracy: 0.2623 - val_sparse_categorical_crossentropy: 1.9235\n",
      "Epoch 6/15\n",
      "17/17 [==============================] - 110s 6s/step - loss: 0.7266 - sparse_categorical_accuracy: 0.7459 - sparse_categorical_crossentropy: 0.7266 - val_loss: 1.9547 - val_sparse_categorical_accuracy: 0.3279 - val_sparse_categorical_crossentropy: 1.9547\n",
      "Epoch 7/15\n",
      "17/17 [==============================] - 109s 6s/step - loss: 0.5430 - sparse_categorical_accuracy: 0.8398 - sparse_categorical_crossentropy: 0.5430 - val_loss: 2.1119 - val_sparse_categorical_accuracy: 0.2459 - val_sparse_categorical_crossentropy: 2.1119\n",
      "Epoch 8/15\n",
      "17/17 [==============================] - 109s 6s/step - loss: 0.2804 - sparse_categorical_accuracy: 0.9319 - sparse_categorical_crossentropy: 0.2804 - val_loss: 2.8235 - val_sparse_categorical_accuracy: 0.2295 - val_sparse_categorical_crossentropy: 2.8235\n",
      "Epoch 9/15\n",
      "17/17 [==============================] - 111s 7s/step - loss: 0.1871 - sparse_categorical_accuracy: 0.9558 - sparse_categorical_crossentropy: 0.1871 - val_loss: 2.4030 - val_sparse_categorical_accuracy: 0.3115 - val_sparse_categorical_crossentropy: 2.4030\n",
      "Epoch 10/15\n",
      "17/17 [==============================] - 108s 6s/step - loss: 0.0900 - sparse_categorical_accuracy: 0.9945 - sparse_categorical_crossentropy: 0.0900 - val_loss: 2.7961 - val_sparse_categorical_accuracy: 0.3279 - val_sparse_categorical_crossentropy: 2.7961\n",
      "Epoch 11/15\n",
      "17/17 [==============================] - 104s 6s/step - loss: 0.0636 - sparse_categorical_accuracy: 0.9963 - sparse_categorical_crossentropy: 0.0636 - val_loss: 2.9642 - val_sparse_categorical_accuracy: 0.2951 - val_sparse_categorical_crossentropy: 2.9642\n",
      "Epoch 12/15\n",
      "17/17 [==============================] - 107s 6s/step - loss: 0.0415 - sparse_categorical_accuracy: 0.9982 - sparse_categorical_crossentropy: 0.0415 - val_loss: 3.1148 - val_sparse_categorical_accuracy: 0.2951 - val_sparse_categorical_crossentropy: 3.1148\n",
      "Epoch 13/15\n",
      "17/17 [==============================] - 104s 6s/step - loss: 0.0279 - sparse_categorical_accuracy: 0.9982 - sparse_categorical_crossentropy: 0.0279 - val_loss: 3.1176 - val_sparse_categorical_accuracy: 0.2951 - val_sparse_categorical_crossentropy: 3.1176\n",
      "Epoch 14/15\n",
      "17/17 [==============================] - 105s 6s/step - loss: 0.0197 - sparse_categorical_accuracy: 0.9982 - sparse_categorical_crossentropy: 0.0197 - val_loss: 3.2699 - val_sparse_categorical_accuracy: 0.3115 - val_sparse_categorical_crossentropy: 3.2699\n",
      "Epoch 15/15\n",
      "17/17 [==============================] - 107s 6s/step - loss: 0.0119 - sparse_categorical_accuracy: 1.0000 - sparse_categorical_crossentropy: 0.0119 - val_loss: 3.2418 - val_sparse_categorical_accuracy: 0.3443 - val_sparse_categorical_crossentropy: 3.2418\n"
     ]
    },
    {
     "name": "stderr",
     "output_type": "stream",
     "text": [
      "WARNING:absl:Found untraced functions such as restored_function_body, restored_function_body, restored_function_body, restored_function_body, restored_function_body while saving (showing 5 of 915). These functions will not be directly callable after loading.\n"
     ]
    },
    {
     "name": "stdout",
     "output_type": "stream",
     "text": [
      "INFO:tensorflow:Assets written to: models/cross4/3_multimod_bert_res50_e15_val0_1/assets\n"
     ]
    },
    {
     "name": "stderr",
     "output_type": "stream",
     "text": [
      "INFO:tensorflow:Assets written to: models/cross4/3_multimod_bert_res50_e15_val0_1/assets\n",
      "/usr/local/lib/python3.6/dist-packages/keras/utils/generic_utils.py:497: CustomMaskWarning: Custom mask layers require a config and must override get_config. When loading, the custom mask layer must be passed to the custom_objects argument.\n",
      "  category=CustomMaskWarning)\n"
     ]
    },
    {
     "name": "stdout",
     "output_type": "stream",
     "text": [
      "5/5 [==============================] - 27s 5s/step - loss: 3.0634 - sparse_categorical_accuracy: 0.3642 - sparse_categorical_crossentropy: 3.0634\n",
      "Macro F1 Score: 0.3665569056427265\n",
      "Epoch 1/15\n",
      "17/17 [==============================] - 119s 7s/step - loss: 2.9024 - sparse_categorical_accuracy: 0.1952 - sparse_categorical_crossentropy: 2.9024 - val_loss: 1.6889 - val_sparse_categorical_accuracy: 0.2951 - val_sparse_categorical_crossentropy: 1.6889\n",
      "Epoch 2/15\n",
      "17/17 [==============================] - 108s 6s/step - loss: 1.6007 - sparse_categorical_accuracy: 0.2855 - sparse_categorical_crossentropy: 1.6007 - val_loss: 1.6486 - val_sparse_categorical_accuracy: 0.2131 - val_sparse_categorical_crossentropy: 1.6486\n",
      "Epoch 3/15\n",
      "17/17 [==============================] - 107s 6s/step - loss: 1.4233 - sparse_categorical_accuracy: 0.3812 - sparse_categorical_crossentropy: 1.4233 - val_loss: 1.5669 - val_sparse_categorical_accuracy: 0.3443 - val_sparse_categorical_crossentropy: 1.5669\n",
      "Epoch 4/15\n",
      "17/17 [==============================] - 104s 6s/step - loss: 1.2018 - sparse_categorical_accuracy: 0.5451 - sparse_categorical_crossentropy: 1.2018 - val_loss: 1.6020 - val_sparse_categorical_accuracy: 0.3770 - val_sparse_categorical_crossentropy: 1.6020\n",
      "Epoch 5/15\n",
      "17/17 [==============================] - 99s 6s/step - loss: 1.0050 - sparse_categorical_accuracy: 0.6022 - sparse_categorical_crossentropy: 1.0050 - val_loss: 1.6932 - val_sparse_categorical_accuracy: 0.3115 - val_sparse_categorical_crossentropy: 1.6932\n",
      "Epoch 6/15\n",
      "17/17 [==============================] - 96s 6s/step - loss: 0.7470 - sparse_categorical_accuracy: 0.7385 - sparse_categorical_crossentropy: 0.7470 - val_loss: 1.7659 - val_sparse_categorical_accuracy: 0.3770 - val_sparse_categorical_crossentropy: 1.7659\n",
      "Epoch 7/15\n",
      "17/17 [==============================] - 95s 6s/step - loss: 0.5625 - sparse_categorical_accuracy: 0.8122 - sparse_categorical_crossentropy: 0.5625 - val_loss: 1.6829 - val_sparse_categorical_accuracy: 0.3770 - val_sparse_categorical_crossentropy: 1.6829\n",
      "Epoch 8/15\n",
      "17/17 [==============================] - 103s 6s/step - loss: 0.3452 - sparse_categorical_accuracy: 0.9024 - sparse_categorical_crossentropy: 0.3452 - val_loss: 1.9033 - val_sparse_categorical_accuracy: 0.3443 - val_sparse_categorical_crossentropy: 1.9033\n",
      "Epoch 9/15\n",
      "17/17 [==============================] - 107s 6s/step - loss: 0.2049 - sparse_categorical_accuracy: 0.9632 - sparse_categorical_crossentropy: 0.2049 - val_loss: 2.0327 - val_sparse_categorical_accuracy: 0.3770 - val_sparse_categorical_crossentropy: 2.0327\n",
      "Epoch 10/15\n",
      "17/17 [==============================] - 103s 6s/step - loss: 0.1127 - sparse_categorical_accuracy: 0.9834 - sparse_categorical_crossentropy: 0.1127 - val_loss: 2.1288 - val_sparse_categorical_accuracy: 0.3607 - val_sparse_categorical_crossentropy: 2.1288\n",
      "Epoch 11/15\n",
      "17/17 [==============================] - 102s 6s/step - loss: 0.0743 - sparse_categorical_accuracy: 0.9890 - sparse_categorical_crossentropy: 0.0743 - val_loss: 2.1207 - val_sparse_categorical_accuracy: 0.3443 - val_sparse_categorical_crossentropy: 2.1207\n",
      "Epoch 12/15\n",
      "17/17 [==============================] - 107s 6s/step - loss: 0.0431 - sparse_categorical_accuracy: 0.9982 - sparse_categorical_crossentropy: 0.0431 - val_loss: 2.2462 - val_sparse_categorical_accuracy: 0.3770 - val_sparse_categorical_crossentropy: 2.2462\n",
      "Epoch 13/15\n",
      "17/17 [==============================] - 106s 6s/step - loss: 0.0318 - sparse_categorical_accuracy: 0.9926 - sparse_categorical_crossentropy: 0.0318 - val_loss: 2.5978 - val_sparse_categorical_accuracy: 0.3443 - val_sparse_categorical_crossentropy: 2.5978\n",
      "Epoch 14/15\n",
      "17/17 [==============================] - 105s 6s/step - loss: 0.0267 - sparse_categorical_accuracy: 0.9982 - sparse_categorical_crossentropy: 0.0267 - val_loss: 2.5635 - val_sparse_categorical_accuracy: 0.3443 - val_sparse_categorical_crossentropy: 2.5635\n",
      "Epoch 15/15\n",
      "17/17 [==============================] - 100s 6s/step - loss: 0.0252 - sparse_categorical_accuracy: 0.9982 - sparse_categorical_crossentropy: 0.0252 - val_loss: 2.6895 - val_sparse_categorical_accuracy: 0.3607 - val_sparse_categorical_crossentropy: 2.6895\n"
     ]
    },
    {
     "name": "stderr",
     "output_type": "stream",
     "text": [
      "WARNING:absl:Found untraced functions such as restored_function_body, restored_function_body, restored_function_body, restored_function_body, restored_function_body while saving (showing 5 of 915). These functions will not be directly callable after loading.\n"
     ]
    },
    {
     "name": "stdout",
     "output_type": "stream",
     "text": [
      "INFO:tensorflow:Assets written to: models/cross4/4_multimod_bert_res50_e15_val0_1/assets\n"
     ]
    },
    {
     "name": "stderr",
     "output_type": "stream",
     "text": [
      "INFO:tensorflow:Assets written to: models/cross4/4_multimod_bert_res50_e15_val0_1/assets\n",
      "/usr/local/lib/python3.6/dist-packages/keras/utils/generic_utils.py:497: CustomMaskWarning: Custom mask layers require a config and must override get_config. When loading, the custom mask layer must be passed to the custom_objects argument.\n",
      "  category=CustomMaskWarning)\n"
     ]
    },
    {
     "name": "stdout",
     "output_type": "stream",
     "text": [
      "5/5 [==============================] - 26s 5s/step - loss: 2.6898 - sparse_categorical_accuracy: 0.3444 - sparse_categorical_crossentropy: 2.6898\n",
      "Macro F1 Score: 0.340441939467593\n"
     ]
    }
   ],
   "source": [
    "for i in range(0,5)[:]:\n",
    "    Xtrain, imagesTrain, ytrain = trainFolds[i][0], trainFolds[i][1], trainFolds[i][2] \n",
    "    Xtest, imagesTest, ytest = testFolds[i][0], testFolds[i][1], testFolds[i][2]\n",
    "    foldProccess(i,Xtrain,  Xtest, ytrain, ytest, imagesTrain, imagesTest)"
   ]
  },
  {
   "cell_type": "code",
   "execution_count": null,
   "metadata": {},
   "outputs": [],
   "source": [
    "model.save('models/multimod_bert_res50_v7_e18_val0_1')"
   ]
  },
  {
   "cell_type": "code",
   "execution_count": null,
   "metadata": {},
   "outputs": [],
   "source": [
    "model.evaluate([Xtest, images[566:]], ytest)"
   ]
  },
  {
   "cell_type": "code",
   "execution_count": null,
   "metadata": {},
   "outputs": [],
   "source": [
    "ypred = model.predict([Xtest, images[566:]])\n",
    "z = np.argmax(ypred, axis=1)"
   ]
  },
  {
   "cell_type": "code",
   "execution_count": null,
   "metadata": {},
   "outputs": [],
   "source": [
    "macro_f1 = macro_f1_score(ytest, z)\n",
    "print(\"Macro F1 Score:\", macro_f1)"
   ]
  },
  {
   "cell_type": "code",
   "execution_count": null,
   "metadata": {},
   "outputs": [],
   "source": [
    "history.history"
   ]
  },
  {
   "cell_type": "code",
   "execution_count": null,
   "metadata": {},
   "outputs": [],
   "source": [
    "import matplotlib.pyplot as plt\n",
    "\n",
    "def plot_history(history):\n",
    "    # Wyświetlenie wartości straty dla zbioru treningowego i walidacyjnego\n",
    "    plt.plot(history.history['loss'], label='loss')\n",
    "    plt.plot(history.history['sparse_categorical_accuracy'], label='sparse_categorical_accuracy')\n",
    "    plt.plot(history.history['sparse_categorical_crossentropy'], label='sparse_categorical_crossentropy')\n",
    "    plt.xlabel('Epoch')\n",
    "    plt.ylabel('Loss')\n",
    "    plt.title('Loss vs. Epoch')\n",
    "    plt.legend()\n",
    "    plt.show()\n",
    "    \n",
    "    # Wyświetlenie wartości dokładności dla zbioru treningowego i walidacyjnego\n",
    "    #plt.plot(history.history['loss'], label='loss')\n",
    "    plt.plot(history.history['val_loss'], label='val_loss')\n",
    "    plt.plot(history.history['val_sparse_categorical_crossentropy'], label='val_sparse_categorical_crossentropy')\n",
    "    plt.xlabel('Epoch')\n",
    "    plt.xlabel('Epoch')\n",
    "    plt.ylabel('Accuracy')\n",
    "    plt.title('Accuracy vs. Epoch')\n",
    "    plt.legend()\n",
    "    plt.show()\n",
    "plot_history(history)"
   ]
  }
 ],
 "metadata": {
  "kernelspec": {
   "display_name": "Python 3",
   "language": "python",
   "name": "python3"
  },
  "language_info": {
   "codemirror_mode": {
    "name": "ipython",
    "version": 3
   },
   "file_extension": ".py",
   "mimetype": "text/x-python",
   "name": "python",
   "nbconvert_exporter": "python",
   "pygments_lexer": "ipython3",
   "version": "3.6.9"
  }
 },
 "nbformat": 4,
 "nbformat_minor": 2
}
