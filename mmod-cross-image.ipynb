{
 "cells": [
  {
   "cell_type": "code",
   "execution_count": 1,
   "metadata": {},
   "outputs": [],
   "source": [
    "import tensorflow as tf\n",
    "import tensorflow_hub as hub\n",
    "import tensorflow_text as text\n",
    "import pandas as pd\n",
    "import numpy as np\n",
    "import pickle\n",
    "from PIL import Image\n",
    "from tensorflow.keras.applications.resnet50 import preprocess_input, decode_predictions\n",
    "\n",
    "from tensorflow.keras.layers import Dense, GlobalAveragePooling2D, concatenate\n",
    "from tensorflow.keras.models import Model\n",
    "from tensorflow.keras.applications import ResNet50\n",
    "from sklearn.metrics import f1_score"
   ]
  },
  {
   "cell_type": "code",
   "execution_count": 2,
   "metadata": {},
   "outputs": [],
   "source": [
    "def macro_f1_score(y_true, y_pred):\n",
    "    macro_f1 = f1_score(y_true, y_pred, average='macro')\n",
    "    return macro_f1"
   ]
  },
  {
   "cell_type": "code",
   "execution_count": 3,
   "metadata": {},
   "outputs": [
    {
     "name": "stdout",
     "output_type": "stream",
     "text": [
      "1    3127\n",
      "2    2201\n",
      "0    1033\n",
      "3     480\n",
      "4     151\n",
      "Name: class, dtype: int64\n",
      "4    151\n",
      "3    151\n",
      "2    151\n",
      "1    151\n",
      "0    151\n",
      "Name: class, dtype: int64\n"
     ]
    },
    {
     "data": {
      "text/html": [
       "<div>\n",
       "<style scoped>\n",
       "    .dataframe tbody tr th:only-of-type {\n",
       "        vertical-align: middle;\n",
       "    }\n",
       "\n",
       "    .dataframe tbody tr th {\n",
       "        vertical-align: top;\n",
       "    }\n",
       "\n",
       "    .dataframe thead th {\n",
       "        text-align: right;\n",
       "    }\n",
       "</style>\n",
       "<table border=\"1\" class=\"dataframe\">\n",
       "  <thead>\n",
       "    <tr style=\"text-align: right;\">\n",
       "      <th></th>\n",
       "      <th>image_name</th>\n",
       "      <th>text_corrected</th>\n",
       "      <th>overall_sentiment</th>\n",
       "      <th>ohe</th>\n",
       "      <th>class</th>\n",
       "    </tr>\n",
       "  </thead>\n",
       "  <tbody>\n",
       "    <tr>\n",
       "      <th>0</th>\n",
       "      <td>image_5711.jpg</td>\n",
       "      <td>I'm going camping For the rest of my fucking l...</td>\n",
       "      <td>negative</td>\n",
       "      <td>[1, 0, 0, 0, 0]</td>\n",
       "      <td>3</td>\n",
       "    </tr>\n",
       "    <tr>\n",
       "      <th>1</th>\n",
       "      <td>image_4740.jpg</td>\n",
       "      <td>I M GONNA MAKE HIM A OFFER HE CAN'T REFUSE WHA...</td>\n",
       "      <td>negative</td>\n",
       "      <td>[1, 0, 0, 0, 0]</td>\n",
       "      <td>3</td>\n",
       "    </tr>\n",
       "    <tr>\n",
       "      <th>2</th>\n",
       "      <td>image_58.jpg</td>\n",
       "      <td>**CALLING ALL HEROES. WE'RE BATTLING THANOS AN...</td>\n",
       "      <td>positive</td>\n",
       "      <td>[0, 0, 1, 0, 0]</td>\n",
       "      <td>1</td>\n",
       "    </tr>\n",
       "    <tr>\n",
       "      <th>3</th>\n",
       "      <td>image_311.jpg</td>\n",
       "      <td>NOPE. I HAVE NOT SEEN YOUR LIPSTICK</td>\n",
       "      <td>very_positive</td>\n",
       "      <td>[0, 0, 0, 0, 1]</td>\n",
       "      <td>0</td>\n",
       "    </tr>\n",
       "    <tr>\n",
       "      <th>4</th>\n",
       "      <td>image_3597.jpg</td>\n",
       "      <td>IF YOU BELIEVE HER JUST BECAUSE SHE'S A WOMAN ...</td>\n",
       "      <td>very_positive</td>\n",
       "      <td>[0, 0, 0, 0, 1]</td>\n",
       "      <td>0</td>\n",
       "    </tr>\n",
       "  </tbody>\n",
       "</table>\n",
       "</div>"
      ],
      "text/plain": [
       "       image_name                                     text_corrected  \\\n",
       "0  image_5711.jpg  I'm going camping For the rest of my fucking l...   \n",
       "1  image_4740.jpg  I M GONNA MAKE HIM A OFFER HE CAN'T REFUSE WHA...   \n",
       "2    image_58.jpg  **CALLING ALL HEROES. WE'RE BATTLING THANOS AN...   \n",
       "3   image_311.jpg                NOPE. I HAVE NOT SEEN YOUR LIPSTICK   \n",
       "4  image_3597.jpg  IF YOU BELIEVE HER JUST BECAUSE SHE'S A WOMAN ...   \n",
       "\n",
       "  overall_sentiment              ohe  class  \n",
       "0          negative  [1, 0, 0, 0, 0]      3  \n",
       "1          negative  [1, 0, 0, 0, 0]      3  \n",
       "2          positive  [0, 0, 1, 0, 0]      1  \n",
       "3     very_positive  [0, 0, 0, 0, 1]      0  \n",
       "4     very_positive  [0, 0, 0, 0, 1]      0  "
      ]
     },
     "execution_count": 3,
     "metadata": {},
     "output_type": "execute_result"
    }
   ],
   "source": [
    "labelsPath = '../data/labels_pd_pickle'\n",
    "file = open(labelsPath,'rb')\n",
    "data = pickle.load(file)\n",
    "\n",
    "data.drop(columns=['text_ocr'])\n",
    "\n",
    "\n",
    "taskA = data.take([0,2,7],axis=1)\n",
    "\n",
    "one_hot_encoded = pd.get_dummies(taskA['overall_sentiment'],dtype=int)\n",
    "taskA['ohe'] = one_hot_encoded.values.tolist()\n",
    "labels = one_hot_encoded.columns.tolist()\n",
    "taskA['text_corrected'] = taskA['text_corrected'].astype('string')\n",
    "codes, uniques = pd.factorize(taskA['overall_sentiment'])\n",
    "taskA['class'] = codes\n",
    "\n",
    "\n",
    "print(taskA['class'].value_counts())\n",
    "taskAbalanced = pd.concat([\n",
    "    taskA[taskA['class'] == c].sample(n=151, replace=True) for c in taskA['class'].unique()\n",
    "])\n",
    "print(taskAbalanced['class'].value_counts())\n",
    "\n",
    "taskAbalanced = taskAbalanced.sample(frac=1).reset_index(drop=True)\n",
    "\n",
    "taskAbalanced.head()\n"
   ]
  },
  {
   "cell_type": "code",
   "execution_count": 4,
   "metadata": {},
   "outputs": [
    {
     "data": {
      "text/plain": [
       "array(['negative', 'positive', 'very_positive', 'neutral',\n",
       "       'very_negative'], dtype=object)"
      ]
     },
     "execution_count": 4,
     "metadata": {},
     "output_type": "execute_result"
    }
   ],
   "source": [
    "taskAbalanced['overall_sentiment'].unique()"
   ]
  },
  {
   "cell_type": "code",
   "execution_count": 5,
   "metadata": {},
   "outputs": [],
   "source": [
    "images_folder = '../data/images/'\n",
    "images = []\n",
    "df = taskAbalanced\n",
    "for filename in df['image_name'].values:  # Zmień 'nazwa_pliku' na nazwę kolumny z nazwami plików w DataFrame\n",
    "    img = Image.open(images_folder + filename)  # Tworzenie ścieżki do pliku obrazu\n",
    "    img = img.resize((224, 224))  # Dopasowanie rozmiaru obrazu, jeśli to konieczne\n",
    "    img = img.convert('RGB')  # Konwertuj do formatu RGB\n",
    "    img_array = np.array(img)  # Konwersja obrazu PIL na tablicę numpy\n",
    "    img_array = preprocess_input(img_array)\n",
    "    images.append(img_array)  # Dodanie obrazu do listy\n",
    "images = np.stack(images)"
   ]
  },
  {
   "cell_type": "code",
   "execution_count": 6,
   "metadata": {},
   "outputs": [
    {
     "data": {
      "text/plain": [
       "(755, 224, 224, 3)"
      ]
     },
     "execution_count": 6,
     "metadata": {},
     "output_type": "execute_result"
    }
   ],
   "source": [
    "images[:].shape"
   ]
  },
  {
   "cell_type": "code",
   "execution_count": 7,
   "metadata": {},
   "outputs": [
    {
     "name": "stderr",
     "output_type": "stream",
     "text": [
      "Clipping input data to the valid range for imshow with RGB data ([0..1] for floats or [0..255] for integers).\n"
     ]
    },
    {
     "data": {
      "image/png": "[encoded data removed]",
      "text/plain": [
       "<Figure size 432x288 with 1 Axes>"
      ]
     },
     "metadata": {
      "needs_background": "light"
     },
     "output_type": "display_data"
    },
    {
     "data": {
      "text/plain": [
       "image_name                                              image_4740.jpg\n",
       "text_corrected       I M GONNA MAKE HIM A OFFER HE CAN'T REFUSE WHA...\n",
       "overall_sentiment                                             negative\n",
       "ohe                                                    [1, 0, 0, 0, 0]\n",
       "class                                                                3\n",
       "Name: 1, dtype: object"
      ]
     },
     "execution_count": 7,
     "metadata": {},
     "output_type": "execute_result"
    }
   ],
   "source": [
    "import matplotlib.pyplot as plt\n",
    "plt.imshow(images[1])\n",
    "plt.show()\n",
    "df.iloc[1]"
   ]
  },
  {
   "cell_type": "code",
   "execution_count": 8,
   "metadata": {},
   "outputs": [],
   "source": [
    "# from sklearn.model_selection import train_test_split\n",
    "\n",
    "# Xtrain, Xtest, ytrain, ytest = train_test_split(df['text_corrected'],df['class'],shuffle=False)\n",
    "# Xtrain = np.asarray(Xtrain).astype(np.str)\n",
    "# ytrain = np.asarray(ytrain).astype(np.int)\n",
    "# Xtest = np.asarray(Xtest).astype(np.str)\n",
    "# ytest = np.asarray(ytest).astype(np.int)\n",
    "\n",
    "from sklearn.model_selection import KFold\n",
    "\n",
    "kf = KFold(n_splits=5,shuffle=True, random_state=777)\n",
    "\n",
    "trainFolds={}\n",
    "testFolds={}\n",
    "\n",
    "for i, (train_index, test_index) in enumerate(kf.split(df['text_corrected'])):\n",
    "    trainFolds[i] = (df['text_corrected'][train_index].reset_index(drop=True),images[train_index], df['class'][train_index].reset_index(drop=True))\n",
    "    testFolds[i]  = (df['text_corrected'][test_index].reset_index(drop=True),images[test_index] ,  df['class'][test_index].reset_index(drop=True))\n",
    "    "
   ]
  },
  {
   "cell_type": "code",
   "execution_count": 9,
   "metadata": {},
   "outputs": [],
   "source": [
    "def foldProccess(i,Xtrain, Xtest, ytrain, ytest, imagesTrain, imagesTest):\n",
    "    \n",
    "#     bert_preprocess = hub.KerasLayer(\"https://tfhub.dev/tensorflow/bert_en_uncased_preprocess/3\")\n",
    "#     bert_encoder = hub.KerasLayer(\"https://tfhub.dev/tensorflow/bert_en_uncased_L-12_H-768_A-12/4\")\n",
    "    \n",
    "#     text_input = tf.keras.layers.Input(shape=(), dtype=tf.string, name='text')\n",
    "#     preprocessed_text = bert_preprocess(text_input)\n",
    "#     bertOutputs = bert_encoder(preprocessed_text)\n",
    "#     l = tf.keras.layers.Dropout(0.1, name=\"dropout\")(bertOutputs['pooled_output'])\n",
    "    \n",
    "    #ResNet50\n",
    "    base_model = ResNet50(weights='imagenet', include_top=False)\n",
    "    for layer in base_model.layers:\n",
    "        layer.trainable = False\n",
    "    x = base_model.output\n",
    "    x = GlobalAveragePooling2D()(x)\n",
    "    x = Dense(1024, activation='relu')(x)\n",
    "    \n",
    "    \n",
    "    #HEAD\n",
    "    #concatenated = concatenate([x, l])\n",
    "    connect = Dense(512, activation='relu')(x)\n",
    "    l = tf.keras.layers.Dense(5, activation='softmax', name=\"output\")(connect)\n",
    "    # Use inputs and outputs to construct a final model\n",
    "    model = tf.keras.Model(inputs=[base_model.input], outputs = [l])\n",
    "    METRICS = [\n",
    "        tf.keras.metrics.SparseCategoricalAccuracy(),\n",
    "        tf.keras.metrics.SparseCategoricalCrossentropy()\n",
    "    ]\n",
    "    model.compile(optimizer=tf.keras.optimizers.Adam(),\n",
    "                  loss=tf.keras.losses.SparseCategoricalCrossentropy(),\n",
    "                  metrics=METRICS)\n",
    "    \n",
    "    \n",
    "    \n",
    "    history = model.fit([imagesTrain], ytrain, epochs=15,validation_split=0.1)#, callbacks=[early_stopping])\n",
    "    model.save(f'models/cross4/{i}_multimod_bert_res50_e15_val0_1')\n",
    "    model.evaluate([imagesTest], ytest)\n",
    "    ypred = model.predict([imagesTest])\n",
    "    z = np.argmax(ypred, axis=1)\n",
    "    macro_f1 = macro_f1_score(ytest, z)\n",
    "    print(\"Macro F1 Score:\", macro_f1)"
   ]
  },
  {
   "cell_type": "code",
   "execution_count": 10,
   "metadata": {},
   "outputs": [
    {
     "name": "stdout",
     "output_type": "stream",
     "text": [
      "Epoch 1/15\n",
      "17/17 [==============================] - 20s 1s/step - loss: 2.4560 - sparse_categorical_accuracy: 0.2339 - sparse_categorical_crossentropy: 2.4560 - val_loss: 1.6917 - val_sparse_categorical_accuracy: 0.2787 - val_sparse_categorical_crossentropy: 1.6917\n",
      "Epoch 2/15\n",
      "17/17 [==============================] - 17s 994ms/step - loss: 1.4174 - sparse_categorical_accuracy: 0.4365 - sparse_categorical_crossentropy: 1.4174 - val_loss: 1.6024 - val_sparse_categorical_accuracy: 0.2459 - val_sparse_categorical_crossentropy: 1.6024\n",
      "Epoch 3/15\n",
      "17/17 [==============================] - 16s 975ms/step - loss: 1.0800 - sparse_categorical_accuracy: 0.5838 - sparse_categorical_crossentropy: 1.0800 - val_loss: 1.6737 - val_sparse_categorical_accuracy: 0.3607 - val_sparse_categorical_crossentropy: 1.6737\n",
      "Epoch 4/15\n",
      "17/17 [==============================] - 18s 1s/step - loss: 0.7250 - sparse_categorical_accuracy: 0.7882 - sparse_categorical_crossentropy: 0.7250 - val_loss: 1.7383 - val_sparse_categorical_accuracy: 0.2951 - val_sparse_categorical_crossentropy: 1.7383\n",
      "Epoch 5/15\n",
      "17/17 [==============================] - 21s 1s/step - loss: 0.4698 - sparse_categorical_accuracy: 0.8582 - sparse_categorical_crossentropy: 0.4698 - val_loss: 1.9653 - val_sparse_categorical_accuracy: 0.4098 - val_sparse_categorical_crossentropy: 1.9653\n",
      "Epoch 6/15\n",
      "17/17 [==============================] - 22s 1s/step - loss: 0.2906 - sparse_categorical_accuracy: 0.9337 - sparse_categorical_crossentropy: 0.2906 - val_loss: 2.0477 - val_sparse_categorical_accuracy: 0.3770 - val_sparse_categorical_crossentropy: 2.0477\n",
      "Epoch 7/15\n",
      "17/17 [==============================] - 22s 1s/step - loss: 0.1610 - sparse_categorical_accuracy: 0.9669 - sparse_categorical_crossentropy: 0.1610 - val_loss: 2.2310 - val_sparse_categorical_accuracy: 0.4098 - val_sparse_categorical_crossentropy: 2.2310\n",
      "Epoch 8/15\n",
      "17/17 [==============================] - 21s 1s/step - loss: 0.0798 - sparse_categorical_accuracy: 0.9890 - sparse_categorical_crossentropy: 0.0798 - val_loss: 2.8238 - val_sparse_categorical_accuracy: 0.3279 - val_sparse_categorical_crossentropy: 2.8238\n",
      "Epoch 9/15\n",
      "17/17 [==============================] - 19s 1s/step - loss: 0.0593 - sparse_categorical_accuracy: 0.9926 - sparse_categorical_crossentropy: 0.0593 - val_loss: 2.9204 - val_sparse_categorical_accuracy: 0.3279 - val_sparse_categorical_crossentropy: 2.9204\n",
      "Epoch 10/15\n",
      "17/17 [==============================] - 18s 1s/step - loss: 0.0547 - sparse_categorical_accuracy: 0.9890 - sparse_categorical_crossentropy: 0.0547 - val_loss: 2.7696 - val_sparse_categorical_accuracy: 0.3443 - val_sparse_categorical_crossentropy: 2.7696\n",
      "Epoch 11/15\n",
      "17/17 [==============================] - 17s 991ms/step - loss: 0.0421 - sparse_categorical_accuracy: 0.9890 - sparse_categorical_crossentropy: 0.0421 - val_loss: 2.8353 - val_sparse_categorical_accuracy: 0.4098 - val_sparse_categorical_crossentropy: 2.8353\n",
      "Epoch 12/15\n",
      "17/17 [==============================] - 15s 912ms/step - loss: 0.0155 - sparse_categorical_accuracy: 0.9982 - sparse_categorical_crossentropy: 0.0155 - val_loss: 2.8688 - val_sparse_categorical_accuracy: 0.4098 - val_sparse_categorical_crossentropy: 2.8688\n",
      "Epoch 13/15\n",
      "17/17 [==============================] - 15s 897ms/step - loss: 0.0212 - sparse_categorical_accuracy: 0.9926 - sparse_categorical_crossentropy: 0.0212 - val_loss: 2.9478 - val_sparse_categorical_accuracy: 0.3770 - val_sparse_categorical_crossentropy: 2.9478\n",
      "Epoch 14/15\n",
      "17/17 [==============================] - 15s 913ms/step - loss: 0.0188 - sparse_categorical_accuracy: 0.9945 - sparse_categorical_crossentropy: 0.0188 - val_loss: 3.1310 - val_sparse_categorical_accuracy: 0.3443 - val_sparse_categorical_crossentropy: 3.1310\n",
      "Epoch 15/15\n",
      "17/17 [==============================] - 16s 928ms/step - loss: 0.0147 - sparse_categorical_accuracy: 0.9963 - sparse_categorical_crossentropy: 0.0147 - val_loss: 3.0749 - val_sparse_categorical_accuracy: 0.4426 - val_sparse_categorical_crossentropy: 3.0749\n",
      "INFO:tensorflow:Assets written to: models/cross4/0_multimod_bert_res50_e15_val0_1/assets\n"
     ]
    },
    {
     "name": "stderr",
     "output_type": "stream",
     "text": [
      "/usr/local/lib/python3.6/dist-packages/keras/utils/generic_utils.py:497: CustomMaskWarning: Custom mask layers require a config and must override get_config. When loading, the custom mask layer must be passed to the custom_objects argument.\n",
      "  category=CustomMaskWarning)\n"
     ]
    },
    {
     "name": "stdout",
     "output_type": "stream",
     "text": [
      "5/5 [==============================] - 5s 949ms/step - loss: 3.3386 - sparse_categorical_accuracy: 0.3377 - sparse_categorical_crossentropy: 3.3386\n",
      "Macro F1 Score: 0.3521854665887395\n",
      "Epoch 1/15\n",
      "17/17 [==============================] - 21s 1s/step - loss: 2.5941 - sparse_categorical_accuracy: 0.2155 - sparse_categorical_crossentropy: 2.5941 - val_loss: 1.6211 - val_sparse_categorical_accuracy: 0.2623 - val_sparse_categorical_crossentropy: 1.6211\n",
      "Epoch 2/15\n",
      "17/17 [==============================] - 15s 896ms/step - loss: 1.5512 - sparse_categorical_accuracy: 0.3315 - sparse_categorical_crossentropy: 1.5512 - val_loss: 1.6300 - val_sparse_categorical_accuracy: 0.2787 - val_sparse_categorical_crossentropy: 1.6300\n",
      "Epoch 3/15\n",
      "17/17 [==============================] - 15s 906ms/step - loss: 1.3149 - sparse_categorical_accuracy: 0.4715 - sparse_categorical_crossentropy: 1.3149 - val_loss: 1.7015 - val_sparse_categorical_accuracy: 0.2131 - val_sparse_categorical_crossentropy: 1.7015\n",
      "Epoch 4/15\n",
      "17/17 [==============================] - 15s 918ms/step - loss: 0.9987 - sparse_categorical_accuracy: 0.6483 - sparse_categorical_crossentropy: 0.9987 - val_loss: 1.8632 - val_sparse_categorical_accuracy: 0.2131 - val_sparse_categorical_crossentropy: 1.8632\n",
      "Epoch 5/15\n",
      "17/17 [==============================] - 15s 905ms/step - loss: 0.7622 - sparse_categorical_accuracy: 0.7440 - sparse_categorical_crossentropy: 0.7622 - val_loss: 1.9628 - val_sparse_categorical_accuracy: 0.3279 - val_sparse_categorical_crossentropy: 1.9628\n",
      "Epoch 6/15\n",
      "17/17 [==============================] - 15s 888ms/step - loss: 0.4654 - sparse_categorical_accuracy: 0.8766 - sparse_categorical_crossentropy: 0.4654 - val_loss: 2.2627 - val_sparse_categorical_accuracy: 0.2787 - val_sparse_categorical_crossentropy: 2.2627\n",
      "Epoch 7/15\n",
      "17/17 [==============================] - 15s 914ms/step - loss: 0.2950 - sparse_categorical_accuracy: 0.9134 - sparse_categorical_crossentropy: 0.2950 - val_loss: 2.5850 - val_sparse_categorical_accuracy: 0.3770 - val_sparse_categorical_crossentropy: 2.5850\n",
      "Epoch 8/15\n",
      "17/17 [==============================] - 15s 891ms/step - loss: 0.2361 - sparse_categorical_accuracy: 0.9355 - sparse_categorical_crossentropy: 0.2361 - val_loss: 2.9833 - val_sparse_categorical_accuracy: 0.2459 - val_sparse_categorical_crossentropy: 2.9833\n",
      "Epoch 9/15\n",
      "17/17 [==============================] - 15s 894ms/step - loss: 0.1312 - sparse_categorical_accuracy: 0.9742 - sparse_categorical_crossentropy: 0.1312 - val_loss: 2.6278 - val_sparse_categorical_accuracy: 0.3443 - val_sparse_categorical_crossentropy: 2.6278\n",
      "Epoch 10/15\n",
      "17/17 [==============================] - 15s 891ms/step - loss: 0.0593 - sparse_categorical_accuracy: 0.9926 - sparse_categorical_crossentropy: 0.0593 - val_loss: 3.3394 - val_sparse_categorical_accuracy: 0.2787 - val_sparse_categorical_crossentropy: 3.3394\n",
      "Epoch 11/15\n",
      "17/17 [==============================] - 15s 892ms/step - loss: 0.0465 - sparse_categorical_accuracy: 0.9926 - sparse_categorical_crossentropy: 0.0465 - val_loss: 3.1963 - val_sparse_categorical_accuracy: 0.3279 - val_sparse_categorical_crossentropy: 3.1963\n",
      "Epoch 12/15\n",
      "17/17 [==============================] - 15s 911ms/step - loss: 0.0428 - sparse_categorical_accuracy: 0.9945 - sparse_categorical_crossentropy: 0.0428 - val_loss: 3.5362 - val_sparse_categorical_accuracy: 0.3279 - val_sparse_categorical_crossentropy: 3.5362\n",
      "Epoch 13/15\n",
      "17/17 [==============================] - 15s 896ms/step - loss: 0.0417 - sparse_categorical_accuracy: 0.9926 - sparse_categorical_crossentropy: 0.0417 - val_loss: 3.2015 - val_sparse_categorical_accuracy: 0.3115 - val_sparse_categorical_crossentropy: 3.2015\n",
      "Epoch 14/15\n",
      "17/17 [==============================] - 15s 888ms/step - loss: 0.0196 - sparse_categorical_accuracy: 0.9963 - sparse_categorical_crossentropy: 0.0196 - val_loss: 3.3201 - val_sparse_categorical_accuracy: 0.3770 - val_sparse_categorical_crossentropy: 3.3201\n",
      "Epoch 15/15\n",
      "17/17 [==============================] - 15s 914ms/step - loss: 0.0115 - sparse_categorical_accuracy: 0.9982 - sparse_categorical_crossentropy: 0.0115 - val_loss: 3.6529 - val_sparse_categorical_accuracy: 0.2951 - val_sparse_categorical_crossentropy: 3.6529\n",
      "INFO:tensorflow:Assets written to: models/cross4/1_multimod_bert_res50_e15_val0_1/assets\n"
     ]
    },
    {
     "name": "stderr",
     "output_type": "stream",
     "text": [
      "/usr/local/lib/python3.6/dist-packages/keras/utils/generic_utils.py:497: CustomMaskWarning: Custom mask layers require a config and must override get_config. When loading, the custom mask layer must be passed to the custom_objects argument.\n",
      "  category=CustomMaskWarning)\n"
     ]
    },
    {
     "name": "stdout",
     "output_type": "stream",
     "text": [
      "5/5 [==============================] - 4s 778ms/step - loss: 3.2367 - sparse_categorical_accuracy: 0.3642 - sparse_categorical_crossentropy: 3.2367\n",
      "Macro F1 Score: 0.36675516990729856\n",
      "Epoch 1/15\n",
      "17/17 [==============================] - 18s 940ms/step - loss: 2.3471 - sparse_categorical_accuracy: 0.2339 - sparse_categorical_crossentropy: 2.3471 - val_loss: 1.6258 - val_sparse_categorical_accuracy: 0.2623 - val_sparse_categorical_crossentropy: 1.6258\n",
      "Epoch 2/15\n",
      "17/17 [==============================] - 16s 922ms/step - loss: 1.3698 - sparse_categorical_accuracy: 0.4475 - sparse_categorical_crossentropy: 1.3698 - val_loss: 1.5611 - val_sparse_categorical_accuracy: 0.2787 - val_sparse_categorical_crossentropy: 1.5611\n",
      "Epoch 3/15\n",
      "17/17 [==============================] - 15s 912ms/step - loss: 1.0798 - sparse_categorical_accuracy: 0.5985 - sparse_categorical_crossentropy: 1.0798 - val_loss: 1.7016 - val_sparse_categorical_accuracy: 0.2951 - val_sparse_categorical_crossentropy: 1.7016\n",
      "Epoch 4/15\n",
      "17/17 [==============================] - 15s 914ms/step - loss: 0.8501 - sparse_categorical_accuracy: 0.6980 - sparse_categorical_crossentropy: 0.8501 - val_loss: 1.7890 - val_sparse_categorical_accuracy: 0.3607 - val_sparse_categorical_crossentropy: 1.7890\n",
      "Epoch 5/15\n",
      "17/17 [==============================] - 15s 911ms/step - loss: 0.4930 - sparse_categorical_accuracy: 0.8600 - sparse_categorical_crossentropy: 0.4930 - val_loss: 1.9560 - val_sparse_categorical_accuracy: 0.3279 - val_sparse_categorical_crossentropy: 1.9560\n",
      "Epoch 6/15\n",
      "17/17 [==============================] - 15s 907ms/step - loss: 0.3344 - sparse_categorical_accuracy: 0.9079 - sparse_categorical_crossentropy: 0.3344 - val_loss: 2.0234 - val_sparse_categorical_accuracy: 0.3443 - val_sparse_categorical_crossentropy: 2.0234\n",
      "Epoch 7/15\n",
      "17/17 [==============================] - 15s 901ms/step - loss: 0.1813 - sparse_categorical_accuracy: 0.9613 - sparse_categorical_crossentropy: 0.1813 - val_loss: 2.3209 - val_sparse_categorical_accuracy: 0.4098 - val_sparse_categorical_crossentropy: 2.3209\n",
      "Epoch 8/15\n",
      "17/17 [==============================] - 15s 915ms/step - loss: 0.0916 - sparse_categorical_accuracy: 0.9834 - sparse_categorical_crossentropy: 0.0916 - val_loss: 2.4465 - val_sparse_categorical_accuracy: 0.3770 - val_sparse_categorical_crossentropy: 2.4465\n",
      "Epoch 9/15\n",
      "17/17 [==============================] - 15s 898ms/step - loss: 0.0521 - sparse_categorical_accuracy: 0.9926 - sparse_categorical_crossentropy: 0.0521 - val_loss: 2.6611 - val_sparse_categorical_accuracy: 0.3770 - val_sparse_categorical_crossentropy: 2.6611\n",
      "Epoch 10/15\n",
      "17/17 [==============================] - 15s 892ms/step - loss: 0.0289 - sparse_categorical_accuracy: 0.9945 - sparse_categorical_crossentropy: 0.0289 - val_loss: 2.9065 - val_sparse_categorical_accuracy: 0.3607 - val_sparse_categorical_crossentropy: 2.9065\n",
      "Epoch 11/15\n",
      "17/17 [==============================] - 15s 893ms/step - loss: 0.0346 - sparse_categorical_accuracy: 0.9871 - sparse_categorical_crossentropy: 0.0346 - val_loss: 2.9211 - val_sparse_categorical_accuracy: 0.3934 - val_sparse_categorical_crossentropy: 2.9211\n",
      "Epoch 12/15\n",
      "17/17 [==============================] - 15s 891ms/step - loss: 0.0492 - sparse_categorical_accuracy: 0.9945 - sparse_categorical_crossentropy: 0.0492 - val_loss: 2.9755 - val_sparse_categorical_accuracy: 0.3607 - val_sparse_categorical_crossentropy: 2.9755\n",
      "Epoch 13/15\n",
      "17/17 [==============================] - 15s 906ms/step - loss: 0.0451 - sparse_categorical_accuracy: 0.9890 - sparse_categorical_crossentropy: 0.0451 - val_loss: 2.9535 - val_sparse_categorical_accuracy: 0.3443 - val_sparse_categorical_crossentropy: 2.9535\n",
      "Epoch 14/15\n",
      "17/17 [==============================] - 15s 892ms/step - loss: 0.0276 - sparse_categorical_accuracy: 0.9926 - sparse_categorical_crossentropy: 0.0276 - val_loss: 3.0351 - val_sparse_categorical_accuracy: 0.3443 - val_sparse_categorical_crossentropy: 3.0351\n",
      "Epoch 15/15\n",
      "17/17 [==============================] - 15s 891ms/step - loss: 0.0270 - sparse_categorical_accuracy: 0.9926 - sparse_categorical_crossentropy: 0.0270 - val_loss: 3.2185 - val_sparse_categorical_accuracy: 0.3770 - val_sparse_categorical_crossentropy: 3.2185\n",
      "INFO:tensorflow:Assets written to: models/cross4/2_multimod_bert_res50_e15_val0_1/assets\n"
     ]
    },
    {
     "name": "stderr",
     "output_type": "stream",
     "text": [
      "/usr/local/lib/python3.6/dist-packages/keras/utils/generic_utils.py:497: CustomMaskWarning: Custom mask layers require a config and must override get_config. When loading, the custom mask layer must be passed to the custom_objects argument.\n",
      "  category=CustomMaskWarning)\n"
     ]
    },
    {
     "name": "stdout",
     "output_type": "stream",
     "text": [
      "5/5 [==============================] - 4s 768ms/step - loss: 3.4659 - sparse_categorical_accuracy: 0.3311 - sparse_categorical_crossentropy: 3.4659\n",
      "Macro F1 Score: 0.3107388764666692\n",
      "Epoch 1/15\n",
      "17/17 [==============================] - 17s 949ms/step - loss: 2.3880 - sparse_categorical_accuracy: 0.2063 - sparse_categorical_crossentropy: 2.3880 - val_loss: 1.7610 - val_sparse_categorical_accuracy: 0.2131 - val_sparse_categorical_crossentropy: 1.7610\n",
      "Epoch 2/15\n",
      "17/17 [==============================] - 15s 918ms/step - loss: 1.4852 - sparse_categorical_accuracy: 0.3517 - sparse_categorical_crossentropy: 1.4852 - val_loss: 1.7127 - val_sparse_categorical_accuracy: 0.1803 - val_sparse_categorical_crossentropy: 1.7127\n",
      "Epoch 3/15\n",
      "17/17 [==============================] - 15s 911ms/step - loss: 1.2027 - sparse_categorical_accuracy: 0.5304 - sparse_categorical_crossentropy: 1.2027 - val_loss: 1.9059 - val_sparse_categorical_accuracy: 0.2787 - val_sparse_categorical_crossentropy: 1.9059\n",
      "Epoch 4/15\n",
      "17/17 [==============================] - 15s 902ms/step - loss: 0.8758 - sparse_categorical_accuracy: 0.7238 - sparse_categorical_crossentropy: 0.8758 - val_loss: 1.9727 - val_sparse_categorical_accuracy: 0.2623 - val_sparse_categorical_crossentropy: 1.9727\n",
      "Epoch 5/15\n",
      "17/17 [==============================] - 15s 894ms/step - loss: 0.5664 - sparse_categorical_accuracy: 0.8232 - sparse_categorical_crossentropy: 0.5664 - val_loss: 2.4839 - val_sparse_categorical_accuracy: 0.2951 - val_sparse_categorical_crossentropy: 2.4839\n",
      "Epoch 6/15\n",
      "17/17 [==============================] - 15s 913ms/step - loss: 0.3962 - sparse_categorical_accuracy: 0.8803 - sparse_categorical_crossentropy: 0.3962 - val_loss: 2.4895 - val_sparse_categorical_accuracy: 0.3279 - val_sparse_categorical_crossentropy: 2.4895\n",
      "Epoch 7/15\n",
      "17/17 [==============================] - 15s 894ms/step - loss: 0.1938 - sparse_categorical_accuracy: 0.9613 - sparse_categorical_crossentropy: 0.1938 - val_loss: 2.6642 - val_sparse_categorical_accuracy: 0.3279 - val_sparse_categorical_crossentropy: 2.6642\n",
      "Epoch 8/15\n",
      "17/17 [==============================] - 15s 893ms/step - loss: 0.1193 - sparse_categorical_accuracy: 0.9797 - sparse_categorical_crossentropy: 0.1193 - val_loss: 3.0176 - val_sparse_categorical_accuracy: 0.2787 - val_sparse_categorical_crossentropy: 3.0176\n",
      "Epoch 9/15\n",
      "17/17 [==============================] - 15s 891ms/step - loss: 0.0815 - sparse_categorical_accuracy: 0.9816 - sparse_categorical_crossentropy: 0.0815 - val_loss: 2.9362 - val_sparse_categorical_accuracy: 0.3607 - val_sparse_categorical_crossentropy: 2.9362\n",
      "Epoch 10/15\n",
      "17/17 [==============================] - 15s 914ms/step - loss: 0.0526 - sparse_categorical_accuracy: 0.9926 - sparse_categorical_crossentropy: 0.0526 - val_loss: 3.2263 - val_sparse_categorical_accuracy: 0.2623 - val_sparse_categorical_crossentropy: 3.2263\n",
      "Epoch 11/15\n",
      "17/17 [==============================] - 15s 901ms/step - loss: 0.0356 - sparse_categorical_accuracy: 0.9963 - sparse_categorical_crossentropy: 0.0356 - val_loss: 3.0218 - val_sparse_categorical_accuracy: 0.3443 - val_sparse_categorical_crossentropy: 3.0218\n",
      "Epoch 12/15\n",
      "17/17 [==============================] - 15s 892ms/step - loss: 0.0382 - sparse_categorical_accuracy: 0.9908 - sparse_categorical_crossentropy: 0.0382 - val_loss: 3.6722 - val_sparse_categorical_accuracy: 0.2951 - val_sparse_categorical_crossentropy: 3.6722\n",
      "Epoch 13/15\n",
      "17/17 [==============================] - 15s 895ms/step - loss: 0.0445 - sparse_categorical_accuracy: 0.9926 - sparse_categorical_crossentropy: 0.0445 - val_loss: 3.3408 - val_sparse_categorical_accuracy: 0.3279 - val_sparse_categorical_crossentropy: 3.3408\n",
      "Epoch 14/15\n",
      "17/17 [==============================] - 15s 893ms/step - loss: 0.0214 - sparse_categorical_accuracy: 0.9963 - sparse_categorical_crossentropy: 0.0214 - val_loss: 3.1652 - val_sparse_categorical_accuracy: 0.3443 - val_sparse_categorical_crossentropy: 3.1652\n",
      "Epoch 15/15\n",
      "17/17 [==============================] - 15s 911ms/step - loss: 0.0169 - sparse_categorical_accuracy: 0.9982 - sparse_categorical_crossentropy: 0.0169 - val_loss: 3.3298 - val_sparse_categorical_accuracy: 0.3115 - val_sparse_categorical_crossentropy: 3.3298\n",
      "INFO:tensorflow:Assets written to: models/cross4/3_multimod_bert_res50_e15_val0_1/assets\n"
     ]
    },
    {
     "name": "stderr",
     "output_type": "stream",
     "text": [
      "/usr/local/lib/python3.6/dist-packages/keras/utils/generic_utils.py:497: CustomMaskWarning: Custom mask layers require a config and must override get_config. When loading, the custom mask layer must be passed to the custom_objects argument.\n",
      "  category=CustomMaskWarning)\n"
     ]
    },
    {
     "name": "stdout",
     "output_type": "stream",
     "text": [
      "5/5 [==============================] - 4s 770ms/step - loss: 3.5439 - sparse_categorical_accuracy: 0.3709 - sparse_categorical_crossentropy: 3.5439\n",
      "Macro F1 Score: 0.3584505331200427\n",
      "Epoch 1/15\n",
      "17/17 [==============================] - 18s 976ms/step - loss: 2.6110 - sparse_categorical_accuracy: 0.2044 - sparse_categorical_crossentropy: 2.6110 - val_loss: 1.6981 - val_sparse_categorical_accuracy: 0.1967 - val_sparse_categorical_crossentropy: 1.6981\n",
      "Epoch 2/15\n",
      "17/17 [==============================] - 16s 919ms/step - loss: 1.4209 - sparse_categorical_accuracy: 0.3775 - sparse_categorical_crossentropy: 1.4209 - val_loss: 1.6081 - val_sparse_categorical_accuracy: 0.3115 - val_sparse_categorical_crossentropy: 1.6081\n",
      "Epoch 3/15\n",
      "17/17 [==============================] - 15s 917ms/step - loss: 1.0994 - sparse_categorical_accuracy: 0.5893 - sparse_categorical_crossentropy: 1.0994 - val_loss: 1.6388 - val_sparse_categorical_accuracy: 0.2623 - val_sparse_categorical_crossentropy: 1.6388\n",
      "Epoch 4/15\n",
      "17/17 [==============================] - 15s 904ms/step - loss: 0.7931 - sparse_categorical_accuracy: 0.7587 - sparse_categorical_crossentropy: 0.7931 - val_loss: 1.9049 - val_sparse_categorical_accuracy: 0.2951 - val_sparse_categorical_crossentropy: 1.9049\n",
      "Epoch 5/15\n",
      "17/17 [==============================] - 15s 898ms/step - loss: 0.5913 - sparse_categorical_accuracy: 0.8066 - sparse_categorical_crossentropy: 0.5913 - val_loss: 2.3366 - val_sparse_categorical_accuracy: 0.2787 - val_sparse_categorical_crossentropy: 2.3366\n",
      "Epoch 6/15\n",
      "17/17 [==============================] - 15s 901ms/step - loss: 0.3632 - sparse_categorical_accuracy: 0.9098 - sparse_categorical_crossentropy: 0.3632 - val_loss: 2.0514 - val_sparse_categorical_accuracy: 0.3443 - val_sparse_categorical_crossentropy: 2.0514\n",
      "Epoch 7/15\n",
      "17/17 [==============================] - 15s 915ms/step - loss: 0.2711 - sparse_categorical_accuracy: 0.9282 - sparse_categorical_crossentropy: 0.2711 - val_loss: 2.4344 - val_sparse_categorical_accuracy: 0.3279 - val_sparse_categorical_crossentropy: 2.4344\n",
      "Epoch 8/15\n",
      "17/17 [==============================] - 15s 902ms/step - loss: 0.1463 - sparse_categorical_accuracy: 0.9669 - sparse_categorical_crossentropy: 0.1463 - val_loss: 2.4697 - val_sparse_categorical_accuracy: 0.3443 - val_sparse_categorical_crossentropy: 2.4697\n",
      "Epoch 9/15\n",
      "17/17 [==============================] - 15s 906ms/step - loss: 0.0900 - sparse_categorical_accuracy: 0.9834 - sparse_categorical_crossentropy: 0.0900 - val_loss: 2.6058 - val_sparse_categorical_accuracy: 0.3279 - val_sparse_categorical_crossentropy: 2.6058\n",
      "Epoch 10/15\n",
      "17/17 [==============================] - 15s 916ms/step - loss: 0.0537 - sparse_categorical_accuracy: 0.9908 - sparse_categorical_crossentropy: 0.0537 - val_loss: 2.7092 - val_sparse_categorical_accuracy: 0.3443 - val_sparse_categorical_crossentropy: 2.7092\n",
      "Epoch 11/15\n",
      "17/17 [==============================] - 15s 898ms/step - loss: 0.0652 - sparse_categorical_accuracy: 0.9853 - sparse_categorical_crossentropy: 0.0652 - val_loss: 3.1621 - val_sparse_categorical_accuracy: 0.3443 - val_sparse_categorical_crossentropy: 3.1621\n",
      "Epoch 12/15\n",
      "17/17 [==============================] - 15s 897ms/step - loss: 0.0727 - sparse_categorical_accuracy: 0.9834 - sparse_categorical_crossentropy: 0.0727 - val_loss: 2.9403 - val_sparse_categorical_accuracy: 0.3443 - val_sparse_categorical_crossentropy: 2.9403\n",
      "Epoch 13/15\n",
      "17/17 [==============================] - 15s 893ms/step - loss: 0.0440 - sparse_categorical_accuracy: 0.9890 - sparse_categorical_crossentropy: 0.0440 - val_loss: 3.1316 - val_sparse_categorical_accuracy: 0.3115 - val_sparse_categorical_crossentropy: 3.1316\n",
      "Epoch 14/15\n",
      "17/17 [==============================] - 15s 900ms/step - loss: 0.0271 - sparse_categorical_accuracy: 0.9982 - sparse_categorical_crossentropy: 0.0271 - val_loss: 3.0575 - val_sparse_categorical_accuracy: 0.2787 - val_sparse_categorical_crossentropy: 3.0575\n",
      "Epoch 15/15\n",
      "17/17 [==============================] - 15s 898ms/step - loss: 0.0104 - sparse_categorical_accuracy: 1.0000 - sparse_categorical_crossentropy: 0.0104 - val_loss: 3.2925 - val_sparse_categorical_accuracy: 0.3115 - val_sparse_categorical_crossentropy: 3.2925\n",
      "INFO:tensorflow:Assets written to: models/cross4/4_multimod_bert_res50_e15_val0_1/assets\n"
     ]
    },
    {
     "name": "stderr",
     "output_type": "stream",
     "text": [
      "/usr/local/lib/python3.6/dist-packages/keras/utils/generic_utils.py:497: CustomMaskWarning: Custom mask layers require a config and must override get_config. When loading, the custom mask layer must be passed to the custom_objects argument.\n",
      "  category=CustomMaskWarning)\n"
     ]
    },
    {
     "name": "stdout",
     "output_type": "stream",
     "text": [
      "5/5 [==============================] - 4s 810ms/step - loss: 3.5390 - sparse_categorical_accuracy: 0.3444 - sparse_categorical_crossentropy: 3.5390\n",
      "Macro F1 Score: 0.3514266195729589\n"
     ]
    }
   ],
   "source": [
    "for i in range(0,5)[:]:\n",
    "    Xtrain, imagesTrain, ytrain = trainFolds[i][0], trainFolds[i][1], trainFolds[i][2] \n",
    "    Xtest, imagesTest, ytest = testFolds[i][0], testFolds[i][1], testFolds[i][2]\n",
    "    foldProccess(i,Xtrain,  Xtest, ytrain, ytest, imagesTrain, imagesTest)"
   ]
  },
  {
   "cell_type": "code",
   "execution_count": null,
   "metadata": {},
   "outputs": [],
   "source": [
    "model.save('models/multimod_bert_res50_v7_e18_val0_1')"
   ]
  },
  {
   "cell_type": "code",
   "execution_count": null,
   "metadata": {},
   "outputs": [],
   "source": [
    "model.evaluate([Xtest, images[566:]], ytest)"
   ]
  },
  {
   "cell_type": "code",
   "execution_count": null,
   "metadata": {},
   "outputs": [],
   "source": [
    "ypred = model.predict([Xtest, images[566:]])\n",
    "z = np.argmax(ypred, axis=1)"
   ]
  },
  {
   "cell_type": "code",
   "execution_count": null,
   "metadata": {},
   "outputs": [],
   "source": [
    "macro_f1 = macro_f1_score(ytest, z)\n",
    "print(\"Macro F1 Score:\", macro_f1)"
   ]
  },
  {
   "cell_type": "code",
   "execution_count": null,
   "metadata": {},
   "outputs": [],
   "source": [
    "history.history"
   ]
  },
  {
   "cell_type": "code",
   "execution_count": null,
   "metadata": {},
   "outputs": [],
   "source": [
    "import matplotlib.pyplot as plt\n",
    "\n",
    "def plot_history(history):\n",
    "    # Wyświetlenie wartości straty dla zbioru treningowego i walidacyjnego\n",
    "    plt.plot(history.history['loss'], label='loss')\n",
    "    plt.plot(history.history['sparse_categorical_accuracy'], label='sparse_categorical_accuracy')\n",
    "    plt.plot(history.history['sparse_categorical_crossentropy'], label='sparse_categorical_crossentropy')\n",
    "    plt.xlabel('Epoch')\n",
    "    plt.ylabel('Loss')\n",
    "    plt.title('Loss vs. Epoch')\n",
    "    plt.legend()\n",
    "    plt.show()\n",
    "    \n",
    "    # Wyświetlenie wartości dokładności dla zbioru treningowego i walidacyjnego\n",
    "    #plt.plot(history.history['loss'], label='loss')\n",
    "    plt.plot(history.history['val_loss'], label='val_loss')\n",
    "    plt.plot(history.history['val_sparse_categorical_crossentropy'], label='val_sparse_categorical_crossentropy')\n",
    "    plt.xlabel('Epoch')\n",
    "    plt.xlabel('Epoch')\n",
    "    plt.ylabel('Accuracy')\n",
    "    plt.title('Accuracy vs. Epoch')\n",
    "    plt.legend()\n",
    "    plt.show()\n",
    "plot_history(history)"
   ]
  }
 ],
 "metadata": {
  "kernelspec": {
   "display_name": "Python 3",
   "language": "python",
   "name": "python3"
  },
  "language_info": {
   "codemirror_mode": {
    "name": "ipython",
    "version": 3
   },
   "file_extension": ".py",
   "mimetype": "text/x-python",
   "name": "python",
   "nbconvert_exporter": "python",
   "pygments_lexer": "ipython3",
   "version": "3.6.9"
  }
 },
 "nbformat": 4,
 "nbformat_minor": 2
}
